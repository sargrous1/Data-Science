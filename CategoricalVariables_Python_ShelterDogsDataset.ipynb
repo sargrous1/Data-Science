{
 "cells": [
  {
   "cell_type": "code",
   "execution_count": 46,
   "id": "bc56914a",
   "metadata": {},
   "outputs": [
    {
     "name": "stdout",
     "output_type": "stream",
     "text": [
      "<class 'pandas.core.frame.DataFrame'>\n",
      "RangeIndex: 2937 entries, 0 to 2936\n",
      "Data columns (total 19 columns):\n",
      " #   Column             Non-Null Count  Dtype  \n",
      "---  ------             --------------  -----  \n",
      " 0   ID                 2937 non-null   int64  \n",
      " 1   name               2845 non-null   object \n",
      " 2   age                2937 non-null   float64\n",
      " 3   sex                2937 non-null   object \n",
      " 4   breed              2937 non-null   object \n",
      " 5   date_found         2937 non-null   object \n",
      " 6   adoptable_from     2937 non-null   object \n",
      " 7   posted             2937 non-null   object \n",
      " 8   color              2937 non-null   object \n",
      " 9   coat               2937 non-null   object \n",
      " 10  size               2937 non-null   object \n",
      " 11  neutered           1852 non-null   object \n",
      " 12  housebroken        460 non-null    object \n",
      " 13  likes_people       1999 non-null   object \n",
      " 14  likes_children     1219 non-null   object \n",
      " 15  get_along_males    1633 non-null   object \n",
      " 16  get_along_females  1673 non-null   object \n",
      " 17  get_along_cats     431 non-null    object \n",
      " 18  keep_in            1916 non-null   object \n",
      "dtypes: float64(1), int64(1), object(17)\n",
      "memory usage: 436.1+ KB\n"
     ]
    }
   ],
   "source": [
    "########################################\n",
    "# Categorical variables OK\n",
    "########################################\n",
    "import pandas as pd \n",
    "\n",
    "dogs = pd.read_csv(\"datasets/ShelterDogs.csv\")\n",
    "#display(dogs.head(5))\n",
    "dogs.info()"
   ]
  },
  {
   "cell_type": "code",
   "execution_count": 47,
   "id": "05e7869f",
   "metadata": {},
   "outputs": [
    {
     "name": "stdout",
     "output_type": "stream",
     "text": [
      "short         1972\n",
      "medium         565\n",
      "wirehaired     220\n",
      "long           180\n",
      "Name: coat, dtype: int64\n",
      "short     1972\n",
      "medium     565\n",
      "NaN        220\n",
      "long       180\n",
      "Name: coat, dtype: int64\n"
     ]
    }
   ],
   "source": [
    "#Converting to a category\n",
    "dogs[\"coat\"] = dogs[\"coat\"].astype(\"category\")\n",
    "print(dogs[\"coat\"].value_counts(dropna=False))\n",
    "\n",
    "#Setting Series categories\n",
    "dogs[\"coat\"] = dogs[\"coat\"].cat.set_categories(new_categories=[\"short\",\"medium\", \"long\"])\n",
    "print(dogs[\"coat\"].value_counts(dropna=False))\n",
    "#The wirehaired responses have been set to NaN since they are not in the parameter list\n"
   ]
  },
  {
   "cell_type": "code",
   "execution_count": 48,
   "id": "467ee1e8",
   "metadata": {},
   "outputs": [
    {
     "name": "stdout",
     "output_type": "stream",
     "text": [
      "0    short\n",
      "1    short\n",
      "2    short\n",
      "Name: coat, dtype: category\n",
      "Categories (3, object): ['short' < 'medium' < 'long']\n"
     ]
    }
   ],
   "source": [
    "#setting order of the categories\n",
    "dogs[\"coat\"] = dogs[\"coat\"].cat.set_categories(new_categories=[\"short\",\"medium\", \"long\"], ordered=True)\n",
    "print(dogs[\"coat\"].head(3))"
   ]
  },
  {
   "cell_type": "code",
   "execution_count": 49,
   "id": "0661bc42",
   "metadata": {},
   "outputs": [
    {
     "name": "stdout",
     "output_type": "stream",
     "text": [
      "yes    1991\n",
      "NaN     938\n",
      "no        8\n",
      "Name: likes_people, dtype: int64\n",
      "Index(['no', 'yes', 'did not check', 'could not tell'], dtype='object')\n"
     ]
    }
   ],
   "source": [
    "#missing categories and new categories\n",
    "print(dogs[\"likes_people\"].value_counts(dropna=False))\n",
    "dogs[\"likes_people\"] = dogs[\"likes_people\"].astype(\"category\")\n",
    "dogs[\"likes_people\"] = dogs[\"likes_people\"].cat.add_categories(new_categories=[\"did not check\", \"could not tell\"])\n",
    "print(dogs[\"likes_people\"].cat.categories)"
   ]
  },
  {
   "cell_type": "code",
   "execution_count": 50,
   "id": "f416eba9",
   "metadata": {},
   "outputs": [
    {
     "name": "stdout",
     "output_type": "stream",
     "text": [
      "yes               1991\n",
      "NaN                938\n",
      "no                   8\n",
      "did not check        0\n",
      "could not tell       0\n",
      "Name: likes_people, dtype: int64\n"
     ]
    }
   ],
   "source": [
    "#new categories added but not new rows\n",
    "print(dogs[\"likes_people\"].value_counts(dropna=False))\n",
    "\n",
    "#remove categories\n",
    "#dogs[\"coat\"] = dogs[\"coat\"].cat.remove_categories(removals=[\"wirehaired\"])"
   ]
  },
  {
   "cell_type": "code",
   "execution_count": 51,
   "id": "0923774d",
   "metadata": {},
   "outputs": [
    {
     "name": "stdout",
     "output_type": "stream",
     "text": [
      "object\n",
      "category\n",
      "medium    1944\n",
      "large      519\n",
      "small      474\n",
      "Name: size, dtype: int64\n"
     ]
    }
   ],
   "source": [
    "#The goal is to convert the \"size\" column from the dogs dataset into a ordered categorical pandas Series \n",
    "#with the following categories: [\"small\", \"medium\", \"large\"].\n",
    "    \n",
    "print(dogs[\"size\"].dtype)\n",
    "\n",
    "dogs[\"size\"] = dogs[\"size\"].astype(\"category\")\n",
    "print(dogs[\"size\"].dtype)\n",
    "\n",
    "dogs[\"size\"] = dogs[\"size\"].cat.set_categories([\"small\",\"medium\",\"large\"], ordered=True)\n",
    "print(dogs[\"size\"].value_counts(dropna=False))\n"
   ]
  },
  {
   "cell_type": "code",
   "execution_count": 52,
   "id": "1cbd028d",
   "metadata": {},
   "outputs": [
    {
     "name": "stdout",
     "output_type": "stream",
     "text": [
      "both flat and garden    1224\n",
      "NaN                     1021\n",
      "garden                   510\n",
      "flat                     182\n",
      "Name: keep_in, dtype: int64\n",
      "both flat and garden       1224\n",
      "NaN                        1021\n",
      "garden                      510\n",
      "flat                        182\n",
      "Unknown History               0\n",
      "Open Yard (Countryside)       0\n",
      "Name: keep_in, dtype: int64\n"
     ]
    }
   ],
   "source": [
    "#The owner of a local dog adoption agency has listings for almost 3,000 dogs. \n",
    "#One of the most common questions they have been receiving lately is: \n",
    "#\"What type of area was the dog previously kept in?\". \n",
    "#You are setting up a pipeline to do some analysis \n",
    "#and want to look into what information is available regarding the \"keep_in\" variable\n",
    "    \n",
    "# Check frequency counts while also printing the NaN count\n",
    "print(dogs[\"keep_in\"].value_counts(dropna=False))\n",
    "\n",
    "# Switch to a categorical variable\n",
    "dogs[\"keep_in\"] = dogs[\"keep_in\"].astype(\"category\")\n",
    "\n",
    "# Add new categories\n",
    "new_categories = [\"Unknown History\", \"Open Yard (Countryside)\"]\n",
    "dogs[\"keep_in\"] = dogs[\"keep_in\"].cat.add_categories(new_categories)\n",
    "\n",
    "# Check frequency counts one more time\n",
    "print(dogs[\"keep_in\"].value_counts(dropna=False))\n",
    "\n",
    "#When the adoption agency starts adding more information to this column, \n",
    "#they will need to use one of the five categories now available\n"
   ]
  },
  {
   "cell_type": "code",
   "execution_count": 54,
   "id": "ca5d1325",
   "metadata": {},
   "outputs": [
    {
     "name": "stdout",
     "output_type": "stream",
     "text": [
      "Maybe    1718\n",
      "yes      1172\n",
      "no         47\n",
      "Name: likes_children, dtype: int64\n",
      "Index(['Maybe', 'no', 'yes'], dtype='object')\n",
      "Maybe    1718\n",
      "yes      1172\n",
      "no         47\n",
      "Name: likes_children, dtype: int64\n",
      "yes    1172\n",
      "no       47\n",
      "Name: likes_children, dtype: int64\n",
      "Index(['no', 'yes'], dtype='object')\n"
     ]
    }
   ],
   "source": [
    "dogs[\"likes_children\"] = dogs[\"likes_children\"].fillna(\"Maybe\")\n",
    "                              \n",
    "#Before adopting dogs, parents might want to know whether or not a new dog likes children.\n",
    "print(dogs[\"likes_children\"].value_counts(dropna=False))\n",
    "\n",
    "# Switch to a categorical variable\n",
    "dogs[\"likes_children\"] = dogs[\"likes_children\"].astype(\"category\")\n",
    "\n",
    "#The owner of the data wants to convert all \"Maybe\" responses to \"no\", \n",
    "#as it would be unsafe to let a family adapt a dog if it doesn't like children.\n",
    "# Set \"Maybe\" to be \"no\"\n",
    "# Set \"Maybe\" to be \"no\"\n",
    "dogs.loc[dogs[\"likes_children\"] == \"maybe\", \"likes_children\"] = \"no\"\n",
    "\n",
    "# Print out categories\n",
    "print(dogs[\"likes_children\"].cat.categories)\n",
    "\n",
    "# Print the frequency table\n",
    "print(dogs[\"likes_children\"].value_counts())\n",
    "\n",
    "# Remove the \"Maybe\" category\n",
    "dogs[\"likes_children\"] = dogs[\"likes_children\"].cat.remove_categories([\"Maybe\"])\n",
    "print(dogs[\"likes_children\"].value_counts())\n",
    "\n",
    "# Print the categories one more time\n",
    "print(dogs[\"likes_children\"].cat.categories)\n"
   ]
  },
  {
   "cell_type": "code",
   "execution_count": 55,
   "id": "992d3136",
   "metadata": {},
   "outputs": [
    {
     "name": "stdout",
     "output_type": "stream",
     "text": [
      "Unknown Mix                                             1524\n",
      "German Shepherd Dog Mix                                  190\n",
      "Dachshund Mix                                            147\n",
      "Labrador Retriever Mix                                    83\n",
      "Staffordshire Terrier Mix                                 62\n",
      "                                                        ... \n",
      "Border Collie, Spaniel Mix                                 1\n",
      "Bull Terrier, Fox Terrier, Staffordshire Terrier Mix       1\n",
      "Greyhound, Transylvanian Hound Mix                         1\n",
      "Komondor Mix                                               1\n",
      "German Pointer, Greyhound, Pointer Mix                     1\n",
      "Name: breed, Length: 277, dtype: int64\n",
      "Unknown Mix                                 1524\n",
      "German Shepherd Dog Mix                      190\n",
      "Dachshund Mix                                147\n",
      "Labrador Retriever Mix                        83\n",
      "Staffordshire Terrier Mix                     62\n",
      "                                            ... \n",
      "English Cocker Spaniel, Vizsla Mix             1\n",
      "English Greyhound Mix                          1\n",
      "English Greyhound, Spanish Greyhound Mix       1\n",
      "Fox Terrier, German Shepherd Dog Mix           1\n",
      "Yorkshire Terrier                              1\n",
      "Name: breed, Length: 277, dtype: int64\n",
      "Unknown                                     1524\n",
      "German Shepherd Dog Mix                      190\n",
      "Dachshund Mix                                147\n",
      "Labrador Retriever Mix                        83\n",
      "Staffordshire Terrier Mix                     62\n",
      "                                            ... \n",
      "English Cocker Spaniel, Vizsla Mix             1\n",
      "English Greyhound Mix                          1\n",
      "English Greyhound, Spanish Greyhound Mix       1\n",
      "Fox Terrier, German Shepherd Dog Mix           1\n",
      "Yorkshire Terrier                              1\n",
      "Name: breed, Length: 277, dtype: int64\n"
     ]
    }
   ],
   "source": [
    "print(dogs[\"breed\"].value_counts(dropna=False))\n",
    "\n",
    "# Switch to a categorical variable\n",
    "dogs[\"breed\"] = dogs[\"breed\"].astype(\"category\")\n",
    "print(dogs[\"breed\"].value_counts())\n",
    "\n",
    "#rename categories\n",
    "my_changes = {\"Unknown Mix\":\"Unknown\"}\n",
    "dogs[\"breed\"] = dogs[\"breed\"].cat.rename_categories(my_changes)\n",
    "\n",
    "print(dogs[\"breed\"].value_counts())"
   ]
  },
  {
   "cell_type": "code",
   "execution_count": 56,
   "id": "393464fb",
   "metadata": {},
   "outputs": [
    {
     "name": "stdout",
     "output_type": "stream",
     "text": [
      "Index(['apricot', 'black', 'black and brown', 'black and tan',\n",
      "       'black and white', 'brown', 'brown and white', 'dotted', 'golden',\n",
      "       'gray', 'gray and black', 'gray and white', 'red', 'red and white',\n",
      "       'sable', 'saddle back', 'spotty', 'striped', 'tricolor', 'white',\n",
      "       'wild boar', 'yellow', 'yellow-brown'],\n",
      "      dtype='object')\n",
      "category\n",
      "Index(['apricot', 'black', 'brown', 'brown and white', 'dotted', 'golden',\n",
      "       'gray', 'gray and black', 'gray and white', 'red', 'red and white',\n",
      "       'sable', 'saddle back', 'spotty', 'striped', 'tricolor', 'white',\n",
      "       'wild boar', 'yellow', 'yellow-brown'],\n",
      "      dtype='object')\n"
     ]
    }
   ],
   "source": [
    "########################\n",
    "#collapsing categories\n",
    "########################\n",
    "# Switch to a categorical variable\n",
    "dogs[\"color\"] = dogs[\"color\"].astype(\"category\")\n",
    "print(dogs[\"color\"].cat.categories)\n",
    "\n",
    "update_colors = {\"black and brown\":\"black\", \"black and tan\":\"black\", \"black and white\":\"black\"}\n",
    "\n",
    "dogs[\"main_color\"] = dogs[\"color\"].replace(update_colors)\n",
    "print(dogs[\"main_color\"].dtype)\n",
    "\n",
    "dogs[\"main_color\"] = dogs[\"main_color\"].astype(\"category\")\n",
    "print(dogs[\"main_color\"].cat.categories)\n"
   ]
  },
  {
   "cell_type": "code",
   "execution_count": 57,
   "id": "e27a3326",
   "metadata": {},
   "outputs": [
    {
     "name": "stdout",
     "output_type": "stream",
     "text": [
      "Index(['APRICOT', 'BLACK', 'BROWN', 'BROWN AND WHITE', 'DOTTED', 'GOLDEN',\n",
      "       'GRAY', 'GRAY AND BLACK', 'GRAY AND WHITE', 'RED', 'RED AND WHITE',\n",
      "       'SABLE', 'SADDLE BACK', 'SPOTTY', 'STRIPED', 'TRICOLOR', 'WHITE',\n",
      "       'WILD BOAR', 'YELLOW', 'YELLOW-BROWN'],\n",
      "      dtype='object')\n"
     ]
    }
   ],
   "source": [
    "# Use a lambda function to convert all categories to uppercase using upper()\n",
    "dogs[\"main_color\"] =  dogs[\"main_color\"].cat.rename_categories(lambda c: c.upper())\n",
    "\n",
    "# Print the list of categories\n",
    "print(dogs[\"main_color\"].cat.categories)\n"
   ]
  },
  {
   "cell_type": "code",
   "execution_count": 58,
   "id": "61e01b58",
   "metadata": {},
   "outputs": [
    {
     "name": "stdout",
     "output_type": "stream",
     "text": [
      "BLACK              1252\n",
      "BROWN               293\n",
      "YELLOW-BROWN        212\n",
      "APRICOT             142\n",
      "BROWN AND WHITE     124\n",
      "WHITE               124\n",
      "SABLE               118\n",
      "TRICOLOR             99\n",
      "SADDLE BACK          91\n",
      "STRIPED              89\n",
      "GRAY                 64\n",
      "YELLOW               63\n",
      "GOLDEN               61\n",
      "RED                  53\n",
      "SPOTTY               47\n",
      "GRAY AND WHITE       35\n",
      "GRAY AND BLACK       28\n",
      "WILD BOAR            18\n",
      "RED AND WHITE        14\n",
      "DOTTED               10\n",
      "Name: main_color, dtype: int64\n",
      "BLACK              1252\n",
      "BROWN               293\n",
      "YELLOW-BROWN        212\n",
      "APRICOT             142\n",
      "GRAY                127\n",
      "BROWN AND WHITE     124\n",
      "WHITE               124\n",
      "SABLE               118\n",
      "TRICOLOR             99\n",
      "SADDLE BACK          91\n",
      "STRIPED              89\n",
      "YELLOW               63\n",
      "GOLDEN               61\n",
      "RED                  53\n",
      "SPOTTY               47\n",
      "WILD BOAR            18\n",
      "RED AND WHITE        14\n",
      "DOTTED               10\n",
      "Name: color_collapsed, dtype: int64\n"
     ]
    }
   ],
   "source": [
    "########################\n",
    "#collapsing categories\n",
    "########################\n",
    "\n",
    "# Print the frequency table\n",
    "print(dogs[\"main_color\"].value_counts())\n",
    "#GRAY 64 \n",
    "#GRAY AND BLACK 28\n",
    "#GRAY AND WHITE 35\n",
    "\n",
    "# Create the update_coats dictionary\n",
    "update_coats={\"GRAY AND BLACK\":\"GRAY\", \"GRAY AND WHITE\":\"GRAY\"}\n",
    "\n",
    "# Create a new column, coat_collapsed\n",
    "dogs[\"color_collapsed\"] = dogs[\"main_color\"].replace(update_coats)\n",
    "\n",
    "# Convert the column to categorical\n",
    "dogs[\"color_collapsed\"] = dogs[\"color_collapsed\"].astype(\"category\")\n",
    "\n",
    "# Print the frequency table\n",
    "print(dogs[\"color_collapsed\"].value_counts())\n",
    "#GRAY 64+28+38 (127)"
   ]
  },
  {
   "cell_type": "code",
   "execution_count": 59,
   "id": "5eab7700",
   "metadata": {},
   "outputs": [
    {
     "name": "stdout",
     "output_type": "stream",
     "text": [
      "size\n",
      "small      7.561857\n",
      "medium     8.419609\n",
      "large     10.051503\n",
      "Name: age, dtype: float64\n"
     ]
    }
   ],
   "source": [
    "dogs[\"size\"] = dogs[\"size\"].cat.reorder_categories(new_categories=[\"small\",\"medium\",\"large\"], ordered=True)\n",
    "print(dogs.groupby(by=[\"size\"])[\"age\"].mean())\n",
    "#the average age for each size is shown in the order of the categories of the size column"
   ]
  },
  {
   "cell_type": "code",
   "execution_count": 63,
   "id": "2a68e904",
   "metadata": {},
   "outputs": [
    {
     "data": {
      "text/plain": [
       "male      1681\n",
       "female    1256\n",
       "Name: sex, dtype: int64"
      ]
     },
     "execution_count": 63,
     "metadata": {},
     "output_type": "execute_result"
    }
   ],
   "source": [
    "###################################\n",
    "#Cleaning categorical variables\n",
    "#Identifying ISSUES\n",
    "###################################\n",
    "dogs = pd.read_csv(\"datasets/ShelterDogs.csv\")\n",
    "dogs[\"sex\"].value_counts()\n"
   ]
  }
 ],
 "metadata": {
  "kernelspec": {
   "display_name": "Python 3 (ipykernel)",
   "language": "python",
   "name": "python3"
  },
  "language_info": {
   "codemirror_mode": {
    "name": "ipython",
    "version": 3
   },
   "file_extension": ".py",
   "mimetype": "text/x-python",
   "name": "python",
   "nbconvert_exporter": "python",
   "pygments_lexer": "ipython3",
   "version": "3.10.9"
  }
 },
 "nbformat": 4,
 "nbformat_minor": 5
}
