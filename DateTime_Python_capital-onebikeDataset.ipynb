{
 "cells": [
  {
   "cell_type": "code",
   "execution_count": 26,
   "id": "6b108c58",
   "metadata": {},
   "outputs": [
    {
     "name": "stdout",
     "output_type": "stream",
     "text": [
      "2016\n",
      "10\n",
      "7\n",
      "4\n"
     ]
    }
   ],
   "source": [
    "########################################\n",
    "# Working with DATE\n",
    "########################################\n",
    "\n",
    "#first and last hurricane in the US style\n",
    "two_hurricanes = [\"10/7/2016\", \"6/21/2017\"]\n",
    "\n",
    "#########################\n",
    "#Creating date objects\n",
    "#########################\n",
    "#1 Import date\n",
    "from datetime import date\n",
    "#2 Create date\n",
    "two_hurricanes_dates = [date(2016,10,7), date(2017,6,21)]\n",
    "#3 Access date\n",
    "print(two_hurricanes_dates[0].year)\n",
    "print(two_hurricanes_dates[0].month)\n",
    "print(two_hurricanes_dates[0].day)\n",
    "print(two_hurricanes_dates[0].weekday())\n"
   ]
  },
  {
   "cell_type": "code",
   "execution_count": 27,
   "id": "a18a06c5",
   "metadata": {},
   "outputs": [
    {
     "name": "stdout",
     "output_type": "stream",
     "text": [
      "10\n"
     ]
    }
   ],
   "source": [
    "############################################################################\n",
    "# Exploring 67 years of Hurricane landfalls in the US state of Florida.\n",
    "# List of the hurricanes that made landfall in Florida from 1950 to 2017. \n",
    "# There were 235 in total.\n",
    "############################################################################\n",
    "import pickle\n",
    "with open('datasets/florida_hurricane_dates.pkl', 'rb') as f:\n",
    "    florida_hurricane_dates = pickle.load(f)   # florida_hurricane_dates is a list\n",
    "\n",
    "#How many hurricanes since 1950 have made landfall in Florida before the official start of hurricane season?\n",
    "#Atlantic hurricane season officially begins on June 1\n",
    "\n",
    "# Counter for how many before June 1\n",
    "early_hurricanes = 0\n",
    "\n",
    "# We loop over the dates\n",
    "for hurricane in florida_hurricane_dates:\n",
    "  # Check if the month is before June (month number 6)\n",
    "  if hurricane.month < 6:\n",
    "    early_hurricanes = early_hurricanes + 1\n",
    "    \n",
    "print(early_hurricanes)\n",
    "\n"
   ]
  },
  {
   "cell_type": "code",
   "execution_count": 28,
   "id": "b25fa896",
   "metadata": {},
   "outputs": [
    {
     "name": "stdout",
     "output_type": "stream",
     "text": [
      "2017-11-05\n",
      "29\n",
      "2017-12-04\n"
     ]
    }
   ],
   "source": [
    "#################\n",
    "#Math with DATE\n",
    "#################\n",
    "from datetime import date\n",
    "d1 = date(2017,11,5)\n",
    "d2 = date(2017,12,4)\n",
    "l = [d1,d2]\n",
    "\n",
    "print(min(l))\n",
    "\n",
    "# Substract 2 dates generates a delta object\n",
    "delta = d2 - d1 \n",
    "print(delta.days)\n",
    "\n",
    "# add a delta object to a date\n",
    "#create a timedelta object\n",
    "from datetime import timedelta\n",
    "td = timedelta(days=29)\n",
    "print(d1 + td)"
   ]
  },
  {
   "cell_type": "code",
   "execution_count": 29,
   "id": "433feb8e",
   "metadata": {},
   "outputs": [
    {
     "name": "stdout",
     "output_type": "stream",
     "text": [
      "{1: 0, 2: 1, 3: 0, 4: 1, 5: 8, 6: 32, 7: 21, 8: 49, 9: 70, 10: 43, 11: 9, 12: 1}\n",
      "1950-08-31\n",
      "2017-10-29\n"
     ]
    }
   ],
   "source": [
    "#Counting events per calendar month\n",
    "\n",
    "#how hurricanes in Florida were distributed across months throughout the year.\n",
    "# A dictionary to count hurricanes per calendar month\n",
    "hurricanes_each_month = {1: 0, 2: 0, 3: 0, 4: 0, 5: 0, 6:0, 7: 0, 8:0, 9:0, 10:0, 11:0, 12:0}\n",
    "\n",
    "# Loop over all hurricanes\n",
    "for hurricane in florida_hurricane_dates:\n",
    "  # Pull out the month\n",
    "  month = hurricane.month\n",
    "  # Increment the count in your dictionary by one\n",
    "  hurricanes_each_month[month] +=1\n",
    "  \n",
    "print(hurricanes_each_month)\n",
    "\n",
    "#Putting a list of dates in order\n",
    "dates_ordered = sorted(florida_hurricane_dates)\n",
    "# Print the first and last ordered dates\n",
    "print(dates_ordered[0])\n",
    "print(dates_ordered[-1])\n"
   ]
  },
  {
   "cell_type": "code",
   "execution_count": 30,
   "id": "3520c63d",
   "metadata": {},
   "outputs": [
    {
     "name": "stdout",
     "output_type": "stream",
     "text": [
      "ISO: Our earliest hurricane date: 1950-08-31\n",
      "US: Our earliest hurricane date: 08/31/1950\n",
      "\n",
      "\n",
      "1992-08\n",
      "August (1992)\n",
      "1992-239\n"
     ]
    }
   ],
   "source": [
    "#######################################\n",
    "#Printing DATES in a friendly format\n",
    "#######################################\n",
    "# Assign the earliest date to first_date\n",
    "first_date = min(florida_hurricane_dates)\n",
    "\n",
    "# Convert to ISO and US formats\n",
    "iso = \"Our earliest hurricane date: \" + first_date.isoformat()\n",
    "us = \"Our earliest hurricane date: \" + first_date.strftime(\"%m/%d/%Y\")\n",
    "\n",
    "print(\"ISO: \" + iso)\n",
    "print(\"US: \" + us)\n",
    "print(\"\\n\")\n",
    "#######################################\n",
    "#Representing DATES in different ways\n",
    "#######################################\n",
    "# Import date\n",
    "from datetime import date\n",
    "# Create a date object\n",
    "andrew = date(1992, 8, 26)\n",
    "# Print the date in the format 'YYYY-MM'\n",
    "print(andrew.strftime('%Y-%m'))\n",
    "# Print the date in the format 'MONTH (YYYY)'\n",
    "print(andrew.strftime(\"%B (%Y)\"))\n",
    "# Print the date in the format 'YYYY-DDD'\n",
    "print(andrew.strftime(\"%Y-%j\"))"
   ]
  },
  {
   "cell_type": "code",
   "execution_count": 90,
   "id": "8bdd2337",
   "metadata": {},
   "outputs": [
    {
     "name": "stdout",
     "output_type": "stream",
     "text": [
      "2017-10-01T15:26:26\n",
      "2017-10-01\n",
      "1917-10-01 15:26:26\n",
      "[{'start': Timestamp('2017-10-01 15:23:25'), 'end': Timestamp('2017-10-01 15:26:26')}, {'start': Timestamp('2017-10-01 15:42:57'), 'end': Timestamp('2017-10-01 17:49:59')}, {'start': Timestamp('2017-10-02 06:37:10'), 'end': Timestamp('2017-10-02 06:42:53')}, {'start': Timestamp('2017-10-02 08:56:45'), 'end': Timestamp('2017-10-02 09:18:03')}, {'start': Timestamp('2017-10-02 18:23:48'), 'end': Timestamp('2017-10-02 18:45:05')}]\n",
      "{'AM': 94, 'PM': 196}\n"
     ]
    }
   ],
   "source": [
    "######################################################\n",
    "# working with DATES AND TIMES\n",
    "# understand the trips that W20529 took \n",
    "# throughout the three months we're interested in.\n",
    "######################################################\n",
    "#We will be following one bike, ID number \"W20529\", \n",
    "#on all the trips it took in October, November, and December of 2017. \n",
    "#Each trip consisted of a date and time when a bike was undocked from a station, \n",
    "#then some time passed, and the date and time when W20529 was docked again.\n",
    "pd.set_option(\"mode.chained_assignment\", None)\n",
    "\n",
    "import pandas as pd \n",
    "onebike_datetimes = pd.read_csv(\"datasets/capital-onebike.csv\")\n",
    "#display(onebike_datetimes.info())\n",
    "\n",
    "from datetime import datetime \n",
    "\n",
    "# Import datetime\n",
    "from datetime import datetime\n",
    "# Create a datetime object by hand\n",
    "dt = datetime(2017, 10, 1, 15, 26, 26)\n",
    "# Print the results in ISO 8601 format\n",
    "print(dt.isoformat())\n",
    "print(dt.strftime(\"%Y-%m-%d\"))\n",
    "\n",
    "# Replace the year with 1917\n",
    "dt_old = dt.replace(year=1917)\n",
    "# Print the results in ISO 8601 format\n",
    "print(dt_old)\n",
    "\n",
    "#Did more trips start before noon or after noon?\n",
    "#Counting events before and after noon\n",
    "\n",
    "#create a dictionary with two entries: \n",
    "#start is a datetime object corresponding to the start of a trip (when a bike is removed from the dock) \n",
    "#and end is a datetime object corresponding to the end of a trip (when a bike is put back into a dock).\n",
    "onebike = onebike_datetimes[[\"Start date\", \"End date\"]]\n",
    "onebike.columns = ['start', 'end']\n",
    "onebike[\"start\"] = pd.to_datetime(onebike[\"start\"])\n",
    "onebike[\"end\"] = pd.to_datetime(onebike[\"end\"])\n",
    "\n",
    "myDict = onebike.to_dict('record')\n",
    "print(myDict[:5])\n",
    "\n",
    "# Create dictionary to hold results\n",
    "trip_counts = {'AM': 0, 'PM': 0}\n",
    "\n",
    "# Loop over all trips\n",
    "for trip in myDict:\n",
    "  # Check to see if the trip starts before noon\n",
    "  if trip['start'].hour < 12:\n",
    "    # Increment the counter for before noon\n",
    "    trip_counts['AM'] += 1\n",
    "  else:\n",
    "    # Increment the counter for after noon\n",
    "    trip_counts['PM'] += 1\n",
    "  \n",
    "print(trip_counts)    \n",
    "\n",
    "#It looks like this bike is used about twice as much after noon than it is before noon. \n",
    "#One obvious follow up would be to see _which_ hours the bike is most likely to be taken out for a ride.\n"
   ]
  },
  {
   "cell_type": "code",
   "execution_count": 98,
   "id": "90a76e13",
   "metadata": {},
   "outputs": [
    {
     "name": "stdout",
     "output_type": "stream",
     "text": [
      "2017-02-03 00:00:01\n",
      "2030-10-15 00:00:00\n",
      "[('2017-10-01 15:23:25', '2017-10-01 15:26:26'), ('2017-10-01 15:42:57', '2017-10-01 17:49:59'), ('2017-10-02 06:37:10', '2017-10-02 06:42:53'), ('2017-10-02 08:56:45', '2017-10-02 09:18:03'), ('2017-10-02 18:23:48', '2017-10-02 18:45:05')]\n",
      "[{'start': datetime.datetime(2017, 10, 1, 15, 23, 25), 'end': datetime.datetime(2017, 10, 1, 15, 26, 26)}, {'start': datetime.datetime(2017, 10, 1, 15, 42, 57), 'end': datetime.datetime(2017, 10, 1, 17, 49, 59)}, {'start': datetime.datetime(2017, 10, 2, 6, 37, 10), 'end': datetime.datetime(2017, 10, 2, 6, 42, 53)}, {'start': datetime.datetime(2017, 10, 2, 8, 56, 45), 'end': datetime.datetime(2017, 10, 2, 9, 18, 3)}, {'start': datetime.datetime(2017, 10, 2, 18, 23, 48), 'end': datetime.datetime(2017, 10, 2, 18, 45, 5)}]\n",
      "2017-10-01T15:23:25\n",
      "2017-10-01T15:23:25\n",
      "[datetime.datetime(2017, 12, 30, 15, 19, 13), datetime.datetime(2017, 12, 30, 15, 9, 3)]\n"
     ]
    }
   ],
   "source": [
    "#####################################\n",
    "#Turning strings into DATETIMES\n",
    "#parse dates in most common formats\n",
    "#####################################\n",
    "# downloaded data from the Internet, dates and times usually come as strings. \n",
    "# the first step is to turn those strings into datetime objects.\n",
    "\n",
    "# Import the datetime class\n",
    "from datetime import datetime\n",
    "\n",
    "# Starting string, in YYYY-MM-DD HH:MM:SS format\n",
    "s = '2017-02-03 00:00:01'\n",
    "# Write a format string to parse s\n",
    "fmt = '%Y-%m-%d %H:%M:%S'\n",
    "# Create a datetime object d\n",
    "d = datetime.strptime(s, fmt)\n",
    "# Print d\n",
    "print(d)\n",
    "\n",
    "# Starting string, in YYYY-MM-DD format\n",
    "s = '2030-10-15'\n",
    "# Write a format string to parse s\n",
    "fmt = '%Y-%m-%d'\n",
    "# Create a datetime object d\n",
    "d = datetime.strptime(s, fmt)\n",
    "# Print d\n",
    "print(d)\n",
    "\n",
    "#####################################\n",
    "#Parsing pairs of strings as datetimes\n",
    "#####################################\n",
    "onebike_datetimes = pd.read_csv(\"datasets/capital-onebike.csv\")\n",
    "onebike_datetime_strings = list(zip(onebike_datetimes[\"Start date\"], onebike_datetimes[\"End date\"]))\n",
    "print(onebike_datetime_strings[:5])\n",
    "\n",
    "# Write down the format string\n",
    "fmt = \"%Y-%m-%d %H:%M:%S\"\n",
    "\n",
    "# Initialize a list for holding the pairs of datetime objects\n",
    "onebike_datetimes = []\n",
    "\n",
    "# Loop over all trips\n",
    "for (start, end) in onebike_datetime_strings:\n",
    "  trip = {'start': datetime.strptime(start, fmt),\n",
    "          'end': datetime.strptime(end, fmt)}\n",
    "  \n",
    "  # Append the trip\n",
    "  onebike_datetimes.append(trip)\n",
    "print(onebike_datetimes[:5])    \n",
    "\n",
    "#many complex data cleaning tasks follow this same format: \n",
    "#start with a list, process each element, and add the processed data to a new list.\n",
    "\n",
    "#####################################\n",
    "#Recreating ISO format with strftime()\n",
    "#####################################\n",
    "# Pull out the start of the first trip\n",
    "first_start = onebike_datetimes[0]['start']\n",
    "\n",
    "# Format to feed to strftime()\n",
    "fmt = \"%Y-%m-%dT%H:%M:%S\"\n",
    "\n",
    "# Print out date with .isoformat(), then with .strftime() to compare\n",
    "print(first_start.isoformat())\n",
    "print(first_start.strftime(fmt))    \n",
    "\n",
    "#########################################\n",
    "#Unix timestamps\n",
    "#number of seconds since January 1, 1970\n",
    "#########################################\n",
    "# Import datetime\n",
    "from datetime import datetime\n",
    "# Starting timestamps\n",
    "timestamps = [1514665153, 1514664543]\n",
    "\n",
    "# Datetime objects\n",
    "dts = []\n",
    "# Loop\n",
    "for ts in timestamps:\n",
    "  dts.append(datetime.fromtimestamp(ts))\n",
    "  \n",
    "# Print results\n",
    "print(dts)"
   ]
  },
  {
   "cell_type": "code",
   "execution_count": 100,
   "id": "8002e9c8",
   "metadata": {},
   "outputs": [
    {
     "name": "stdout",
     "output_type": "stream",
     "text": [
      "[181.0, 7622.0, 343.0, 1278.0, 1277.0, 1366.0, 815.0, 545.0, 491.0, 639.0, 1678.0, 406.0, 709.0, 514.0, 492.0, 1668.0, 2242.0, 2752.0, 735.0, 330.0, 518.0, 1433.0, 204.0, 304.0, 977.0, 1399.0, 1244.0, 658.0, 800.0, 1911.0, 2471.0, 1344.0, 435.0, 271.0, 920.0, 851.0, 209.0, 453.0, 841.0, 142.0, 1023.0, 1466.0, 1636.0, 3039.0, 1571.0, 1410.0, 386.0, 1527.0, 622.0, 1450.0, 1422.0, 991.0, 1484.0, 1450.0, 929.0, 533.0, 525.0, 283.0, 133.0, 1106.0, 952.0, 553.0, 659.0, 297.0, 357.0, 989.0, 979.0, 760.0, 1110.0, 675.0, 1207.0, 1593.0, 768.0, 1446.0, 485.0, 200.0, 399.0, 242.0, 170.0, 450.0, 1078.0, 1042.0, 573.0, 748.0, 735.0, 336.0, 76913.0, 171.0, 568.0, 358.0, 917.0, 671.0, 1791.0, 318.0, 888.0, 1284.0, 11338.0, 1686.0, 5579.0, 8290.0, 1850.0, 1810.0, 870.0, 436.0, 429.0, 494.0, 1439.0, 380.0, 629.0, 962.0, 387.0, 952.0, 190.0, 739.0, 1120.0, 369.0, 2275.0, 873.0, 1670.0, 643.0, 572.0, 1375.0, 725.0, 688.0, 1041.0, 1707.0, 1236.0, 1291.0, 2890.0, -3346.0, 1213.0, 331.0, 1497.0, 527.0, 584.0, 2599.0, 759.0, 1291.0, 916.0, 161.0, 806.0, 838.0, 644.0, 374.0, 678.0, 137.0, 659.0, 386.0, 745.0, 448.0, 558.0, 888.0, 662.0, 663.0, 362.0, 513.0, 655.0, 221.0, 469.0, 430.0, 192.0, 324.0, 1233.0, 923.0, 961.0, 525.0, 1017.0, 1216.0, 747.0, 668.0, 1219.0, 1182.0, 10262.0, 1106.0, 399.0, 724.0, 330.0, 499.0, 968.0, 1310.0, 2629.0, 427.0, 839.0, 258.0, 396.0, 238.0, 745.0, 613.0, 710.0, 2068.0, 947.0, 1509.0, 254.0, 625.0, 479.0, 688.0, 238.0, 322.0, 304.0, 576.0, 1035.0, 661.0, 276.0, 1427.0, 998.0, 729.0, 723.0, 220.0, 212.0, 759.0, 268.0, 374.0, 305.0, 304.0, 289.0, 2620.0, 1288.0, 212.0, 2656.0, 996.0, 271.0, 701.0, 458.0, 116.0, 124.0, 276.0, 532.0, 257.0, 1089.0, 195.0, 384.0, 511.0, 850.0, 462.0, 322.0, 998.0, 327.0, 153.0, 152.0, 230.0, 321.0, 625.0, 391.0, 1298.0, 1018.0, 220.0, 277.0, 221.0, 216.0, 509.0, 596.0, 367.0, 447.0, 257.0, 1049.0, 1367.0, 933.0, 151.0, 153.0, 1336.0, 298.0, 380.0, 1385.0, 225.0, 181.0, 581.0, 250.0, 332.0, 845.0, 277.0, 663.0, 541.0, 652.0, 257.0, 775.0, 499.0, 1744.0, 445.0, 297.0, 1716.0, 2046.0, 809.0, 1287.0, 596.0, 1513.0, 651.0, 625.0, 279.0, 210.0, 610.0]\n"
     ]
    }
   ],
   "source": [
    "#############################\n",
    "#timedelta with DATETIME\n",
    "#############################\n",
    "#Turning pairs of datetimes into durations\n",
    "#calculate the number of seconds that the bike was out of the dock for each trip.\n",
    "# Initialize a list for all the trip durations\n",
    "onebike_durations = []\n",
    "\n",
    "for trip in onebike_datetimes:\n",
    "  # Create a timedelta object corresponding to the length of the trip\n",
    "  trip_duration = trip[\"end\"] - trip[\"start\"]\n",
    "  \n",
    "  # Get the total elapsed seconds in trip_duration\n",
    "  trip_length_seconds = trip_duration.total_seconds()\n",
    "  \n",
    "  # Append the results to our list\n",
    "  onebike_durations.append(trip_length_seconds)\n",
    "    \n",
    "print(onebike_durations)\n"
   ]
  },
  {
   "cell_type": "code",
   "execution_count": 102,
   "id": "3be27dfb",
   "metadata": {},
   "outputs": [
    {
     "name": "stdout",
     "output_type": "stream",
     "text": [
      "1178.9310344827586\n",
      "The shortest trip was -3346.0 seconds\n",
      "The longest trip was 76913.0 seconds\n"
     ]
    }
   ],
   "source": [
    "#############################\n",
    "#Average trip time\n",
    "#############################\n",
    "#W20529 took 291 trips in our data set. How long were the trips on average? \n",
    "# What was the total duration of all trips?\n",
    "total_elapsed_time = sum(onebike_durations)\n",
    "\n",
    "# What was the total number of trips?\n",
    "number_of_trips = len(onebike_durations)\n",
    "  \n",
    "# Divide the total duration by the number of trips\n",
    "print(total_elapsed_time / number_of_trips)\n",
    "\n",
    "\n",
    "#Out of 291 trips taken by W20529, how long was the longest? \n",
    "#How short was the shortest? Does anything look fishy?\n",
    "# Calculate shortest and longest trips\n",
    "shortest_trip = min(onebike_durations)\n",
    "longest_trip = max(onebike_durations)\n",
    "\n",
    "# Print out the results\n",
    "print(\"The shortest trip was \" + str(shortest_trip) + \" seconds\")\n",
    "print(\"The longest trip was \" + str(longest_trip) + \" seconds\")\n",
    "\n",
    "#Weird. For at least one trip, the bike returned before it left. \n",
    "#Why could that be? \n",
    "#it happened in early November, around 2AM local time. What happens to clocks around that time each year?\n"
   ]
  },
  {
   "cell_type": "code",
   "execution_count": 122,
   "id": "40139360",
   "metadata": {},
   "outputs": [
    {
     "name": "stdout",
     "output_type": "stream",
     "text": [
      "2017-12-31 01:39:05+05:30\n",
      "2017-12-30 15:09:05+00:00\n",
      "2017-12-30 20:09:05+00:00\n",
      "2017-10-01T15:26:26+00:00\n",
      "2017-10-01T15:26:26-08:00\n"
     ]
    }
   ],
   "source": [
    "##############\n",
    "#UTC offsets\n",
    "##############\n",
    "from datetime import datetime, timedelta, timezone\n",
    "#US Eastern Standard time zone is UTC-5\n",
    "ET = timezone(timedelta(hours=-5))\n",
    "dt = datetime(2017,12,30,15,9,5, tzinfo = ET)\n",
    "\n",
    "#convert to India Standard time zone\n",
    "IST = timezone(timedelta(hours=5, minutes=30))\n",
    "print(dt.astimezone(IST))\n",
    "\n",
    "print(dt.replace(tzinfo = timezone.utc))\n",
    "print(dt.astimezone(timezone.utc))\n",
    "\n",
    "\n",
    "# October 1, 2017 at 15:26:26, UTC\n",
    "dt = datetime(2017, 10, 1, 15, 26, 26, tzinfo=timezone.utc)\n",
    "# Print results\n",
    "print(dt.isoformat())\n",
    "\n",
    "\n",
    "# Create a timezone for Pacific Standard Time, or UTC-8\n",
    "pst = timezone(timedelta(hours=-8))\n",
    "# October 1, 2017 at 15:26:26, UTC-8\n",
    "dt = datetime(2017, 10, 1, 15, 26, 26, tzinfo=pst)\n",
    "# Print results\n",
    "print(dt.isoformat())\n",
    "\n",
    "\n"
   ]
  },
  {
   "cell_type": "code",
   "execution_count": 124,
   "id": "d9946758",
   "metadata": {},
   "outputs": [
    {
     "name": "stdout",
     "output_type": "stream",
     "text": [
      "Trip start updated: 2017-10-01 15:23:25-04:00 Trip end updated: 2017-10-01 15:26:26-04:00\n",
      "Trip start updated: 2017-10-01 15:42:57-04:00 Trip end updated: 2017-10-01 17:49:59-04:00\n",
      "Trip start updated: 2017-10-02 06:37:10-04:00 Trip end updated: 2017-10-02 06:42:53-04:00\n",
      "Trip start updated: 2017-10-02 08:56:45-04:00 Trip end updated: 2017-10-02 09:18:03-04:00\n",
      "Trip start updated: 2017-10-02 18:23:48-04:00 Trip end updated: 2017-10-02 18:45:05-04:00\n",
      "Trip start updated: 2017-10-02 18:48:08-04:00 Trip end updated: 2017-10-02 19:10:54-04:00\n",
      "Trip start updated: 2017-10-02 19:18:10-04:00 Trip end updated: 2017-10-02 19:31:45-04:00\n",
      "Trip start updated: 2017-10-02 19:37:32-04:00 Trip end updated: 2017-10-02 19:46:37-04:00\n",
      "Trip start updated: 2017-10-03 08:24:16-04:00 Trip end updated: 2017-10-03 08:32:27-04:00\n",
      "Trip start updated: 2017-10-03 18:17:07-04:00 Trip end updated: 2017-10-03 18:27:46-04:00\n",
      "Original: 2017-10-01 15:23:25-04:00 | UTC: 2017-10-01T19:23:25+00:00\n",
      "Original: 2017-10-01 15:42:57-04:00 | UTC: 2017-10-01T19:42:57+00:00\n",
      "Original: 2017-10-02 06:37:10-04:00 | UTC: 2017-10-02T10:37:10+00:00\n",
      "Original: 2017-10-02 08:56:45-04:00 | UTC: 2017-10-02T12:56:45+00:00\n",
      "Original: 2017-10-02 18:23:48-04:00 | UTC: 2017-10-02T22:23:48+00:00\n",
      "Original: 2017-10-02 18:48:08-04:00 | UTC: 2017-10-02T22:48:08+00:00\n",
      "Original: 2017-10-02 19:18:10-04:00 | UTC: 2017-10-02T23:18:10+00:00\n",
      "Original: 2017-10-02 19:37:32-04:00 | UTC: 2017-10-02T23:37:32+00:00\n",
      "Original: 2017-10-03 08:24:16-04:00 | UTC: 2017-10-03T12:24:16+00:00\n",
      "Original: 2017-10-03 18:17:07-04:00 | UTC: 2017-10-03T22:17:07+00:00\n"
     ]
    }
   ],
   "source": [
    "# Create a timezone object corresponding to UTC-4\n",
    "edt = timezone(timedelta(hours=-4))\n",
    "\n",
    "# Loop over trips, updating the start and end datetimes to be in UTC-4\n",
    "for trip in onebike_datetimes[:10]:\n",
    "  # Update trip['start'] and trip['end']\n",
    "  trip['start'] = trip['start'].replace(tzinfo=edt)\n",
    "  trip['end'] = trip['end'].replace(tzinfo=edt)\n",
    "  print('Trip start updated:', trip['start'],'Trip end updated:', trip['end'])\n",
    "\n",
    "#What time did the bike leave in UTC?\n",
    "# Loop over the trips\n",
    "for trip in onebike_datetimes[:10]:\n",
    "  # Pull out the start\n",
    "  dt = trip['start']\n",
    "  # Move dt to be in UTC\n",
    "  dt = dt.astimezone(timezone.utc)\n",
    "  \n",
    "  # Print the start time in UTC\n",
    "  print('Original:', trip['start'], '| UTC:', dt.isoformat())\n"
   ]
  },
  {
   "cell_type": "code",
   "execution_count": 128,
   "id": "01255ae5",
   "metadata": {},
   "outputs": [
    {
     "name": "stdout",
     "output_type": "stream",
     "text": [
      "Trip start: 2017-10-01 15:23:25-04:00 Trip end: 2017-10-01 15:26:26-04:00\n",
      "Trip start: 2017-10-01 15:42:57-04:00 Trip end: 2017-10-01 17:49:59-04:00\n",
      "Trip start: 2017-10-02 06:37:10-04:00 Trip end: 2017-10-02 06:42:53-04:00\n",
      "Trip start: 2017-10-02 08:56:45-04:00 Trip end: 2017-10-02 09:18:03-04:00\n",
      "Trip start: 2017-10-02 18:23:48-04:00 Trip end: 2017-10-02 18:45:05-04:00\n",
      "Trip start: 2017-10-02 18:48:08-04:00 Trip end: 2017-10-02 19:10:54-04:00\n",
      "Trip start: 2017-10-02 19:18:10-04:00 Trip end: 2017-10-02 19:31:45-04:00\n",
      "Trip start: 2017-10-02 19:37:32-04:00 Trip end: 2017-10-02 19:46:37-04:00\n",
      "Trip start: 2017-10-03 08:24:16-04:00 Trip end: 2017-10-03 08:32:27-04:00\n",
      "Trip start: 2017-10-03 18:17:07-04:00 Trip end: 2017-10-03 18:27:46-04:00\n",
      "2017-10-01T15:23:25-04:00\n",
      "2017-10-01T20:23:25+01:00\n"
     ]
    }
   ],
   "source": [
    "#Putting the bike trips into the right time zone\n",
    "#Instead of setting the timezones for W20529 by hand, \n",
    "#let's assign them to their IANA timezone: 'America/New_York'. \n",
    "# Import tz\n",
    "from dateutil import tz\n",
    "\n",
    "# Create a timezone object for Eastern Time\n",
    "et = tz.gettz('America/New_York')\n",
    "\n",
    "# Loop over trips, updating the datetimes to be in Eastern Time\n",
    "for trip in onebike_datetimes[:10]:\n",
    "  # Update trip['start'] and trip['end']\n",
    "  trip['start'] = trip['start'].replace(tzinfo=et)\n",
    "  trip['end'] = trip['end'].replace(tzinfo=et)\n",
    "  print('Trip start:', trip['start'],'Trip end:', trip['end'])\n",
    "\n",
    "#What time did the bike leave? \n",
    "#moving things from 'America/New_York' into a few different time zones.\n",
    "# Create the timezone object\n",
    "uk = tz.gettz(\"Europe/London\")\n",
    "\n",
    "# Pull out the start of the first trip\n",
    "local = onebike_datetimes[0]['start']\n",
    "# What time was it in the UK?\n",
    "notlocal = local.astimezone(uk)\n",
    "\n",
    "# Print them out and see the difference\n",
    "print(local.isoformat())\n",
    "print(notlocal.isoformat())\n"
   ]
  },
  {
   "cell_type": "code",
   "execution_count": 129,
   "id": "121ad2a0",
   "metadata": {},
   "outputs": [
    {
     "name": "stdout",
     "output_type": "stream",
     "text": [
      "2017-03-12T01:59:59\n",
      "2017-03-12T01:59:59\n"
     ]
    }
   ],
   "source": [
    "########################\n",
    "#Daylight\n",
    "########################\n",
    "\n",
    "#datetime object without timezone information\n",
    "spring_ahead_159am = datetime(2017,3,12,1,59,59)\n",
    "print(spring_ahead_159am.isoformat())\n",
    "\n",
    "spring_ahead_3am = datetime(2017,3,12,1,59,59)\n",
    "print(spring_ahead_3am.isoformat())\n",
    "\n",
    "(spring_ahead_3am-spring_ahead_159am).total_seconds()\n",
    "\n",
    "EST = timezone(timedelta(hours=-5))\n",
    "EDT = timezone(timedelta(hours=-4))\n",
    "\n",
    "spring_ahead_159am = spring_ahead_159am.replace(tzinfo = EST)\n",
    "spring_ahead_159am.isoformat()\n",
    "spring_ahead_3am = spring_ahead_3am.replace(tzinfo = EST)\n",
    "spring_ahead_3am.isoformat()\n",
    "\n",
    "(spring_ahead_3am-spring_ahead_159am).seconds\n",
    "\n",
    "#But how do we know when the cutoff is without looking it up ourselves? \n",
    "#dateutil saves us from having to know daylight savings rules\n",
    "#like before when it saved us from having to define timezones by hand\n",
    "#import tz\n",
    "from dateutil import tz\n",
    "#create eastern timezone\n",
    "eastern = tz.gettz('America/New_york')\n",
    "spring_ahead_159am = datetime(2017,3,12,1,59,59,tzinfo=eastern)\n",
    "spring_ahead_3am = datetime(2017,3,12,1,59,59,tzinfo=eastern)\n",
    "\n"
   ]
  },
  {
   "cell_type": "code",
   "execution_count": 132,
   "id": "2fa764ec",
   "metadata": {},
   "outputs": [
    {
     "name": "stdout",
     "output_type": "stream",
     "text": [
      "2017-03-12T00:00:00-05:00 to 2017-03-12T06:00:00-04:00\n",
      "6.0\n",
      "5.0\n"
     ]
    }
   ],
   "source": [
    "#How many hours elapsed around daylight saving?\n",
    "#Since our bike data takes place in the fall, \n",
    "#you have to think about the start of daylight savings time.\n",
    "#look at March 12, 2017, in the Eastern United States, when Daylight Saving kicked in at 2 AM.\n",
    "\n",
    "#If you create a datetime for midnight that night, and add 6 hours to it, how much time will have elapsed?\n",
    "# Import datetime, timedelta, tz, timezone\n",
    "from datetime import datetime, timedelta, timezone\n",
    "from dateutil import tz\n",
    "\n",
    "# Start on March 12, 2017, midnight, then add 6 hours\n",
    "start = datetime(2017, 3, 12, tzinfo = tz.gettz('America/New_York'))\n",
    "end = start + timedelta(hours=6)\n",
    "print(start.isoformat() + \" to \" + end.isoformat())\n",
    "\n",
    "# How many hours have elapsed?\n",
    "print((end - start).total_seconds()/(60*60))\n",
    "#You added 6 hours, and got 6 AM, despite the fact that the clocks springing forward \n",
    "#means only 5 hours would have actually elapsed.\n",
    "\n",
    "# What if we move to UTC?\n",
    "print((end.astimezone(timezone.utc) - start.astimezone(timezone.utc))\\\n",
    "      .total_seconds()/(60*60))\n",
    "\n",
    "#When we compare times in local time zones, everything gets converted into clock time. \n",
    "#to get absolute time differences, always move to UTC\n"
   ]
  },
  {
   "cell_type": "code",
   "execution_count": 144,
   "id": "eb284159",
   "metadata": {},
   "outputs": [
    {
     "name": "stdout",
     "output_type": "stream",
     "text": [
      "2000-03-29T00:00:00+01:00\n",
      "2001-03-29T00:00:00+01:00\n",
      "2002-03-29T00:00:00+00:00\n",
      "2003-03-29T00:00:00+00:00\n",
      "2004-03-29T00:00:00+01:00\n",
      "2005-03-29T00:00:00+01:00\n",
      "2006-03-29T00:00:00+01:00\n",
      "2007-03-29T00:00:00+01:00\n",
      "2008-03-29T00:00:00+00:00\n",
      "2009-03-29T00:00:00+00:00\n",
      "2010-03-29T00:00:00+01:00\n"
     ]
    }
   ],
   "source": [
    "#################################\n",
    "#March 29, throughout a decade\n",
    "#################################\n",
    "\n",
    "# Import datetime and tz\n",
    "from datetime import datetime\n",
    "from dateutil import tz\n",
    "\n",
    "# Create starting date\n",
    "dt = datetime(2000, 3, 29, tzinfo=tz.gettz(\"Europe/London\"))\n",
    "\n",
    "# Loop over the dates, replacing the year, and print the ISO timestamp\n",
    "for y in range(2000, 2011):\n",
    "  print(dt.replace(year=y).isoformat())\n",
    "\n"
   ]
  },
  {
   "cell_type": "code",
   "execution_count": 149,
   "id": "47719b0d",
   "metadata": {},
   "outputs": [
    {
     "name": "stdout",
     "output_type": "stream",
     "text": [
      "Ambiguous start at 2017-11-05 01:56:50-04:00\n",
      "Ambiguous end at 2017-11-05 01:01:04-05:00\n",
      "Shortest trip: 116.0\n"
     ]
    }
   ],
   "source": [
    "############\n",
    "#Fall back\n",
    "############\n",
    "# Loop over trips\n",
    "for trip in onebike_datetimes:\n",
    "  trip['start'] = trip['start'].astimezone(tz.gettz('America/New_York'))\n",
    "  trip['end'] = trip['end'].astimezone(tz.gettz('America/New_York'))\n",
    "  \n",
    "  # Rides with ambiguous start\n",
    "  if tz.datetime_ambiguous(trip['start']):\n",
    "    print(\"Ambiguous start at \" + str(trip['start']))\n",
    "  # Rides with ambiguous end\n",
    "  if tz.datetime_ambiguous(trip['end']):\n",
    "    print(\"Ambiguous end at \" + str(trip['end']))\n",
    "\n",
    "#Cleaning daylight saving data with fold    \n",
    "trip_durations = []\n",
    "for trip in onebike_datetimes:\n",
    "  # When the start is later than the end, set the fold to be 1\n",
    "  if trip['start'] > trip['end']:\n",
    "    trip['end'] = tz.enfold(trip['end'])\n",
    "  # Convert to UTC\n",
    "  start = trip['start'].astimezone(tz.UTC)\n",
    "  end = trip['end'].astimezone(tz.UTC)\n",
    "\n",
    "  # Subtract the difference\n",
    "  trip_length_seconds = (end-start).total_seconds()\n",
    "  trip_durations.append(trip_length_seconds)\n",
    "\n",
    "# Take the shortest trip duration\n",
    "print(\"Shortest trip: \" + str(min(trip_durations)))\n",
    "\n",
    "#When collecting data, store it in UTC or with a fixed UTC offset\n"
   ]
  },
  {
   "cell_type": "code",
   "execution_count": 266,
   "id": "ddf0c182",
   "metadata": {},
   "outputs": [
    {
     "data": {
      "text/html": [
       "<div>\n",
       "<style scoped>\n",
       "    .dataframe tbody tr th:only-of-type {\n",
       "        vertical-align: middle;\n",
       "    }\n",
       "\n",
       "    .dataframe tbody tr th {\n",
       "        vertical-align: top;\n",
       "    }\n",
       "\n",
       "    .dataframe thead th {\n",
       "        text-align: right;\n",
       "    }\n",
       "</style>\n",
       "<table border=\"1\" class=\"dataframe\">\n",
       "  <thead>\n",
       "    <tr style=\"text-align: right;\">\n",
       "      <th></th>\n",
       "      <th>Start date</th>\n",
       "      <th>End date</th>\n",
       "      <th>Start station number</th>\n",
       "      <th>Start station</th>\n",
       "      <th>End station number</th>\n",
       "      <th>End station</th>\n",
       "      <th>Bike number</th>\n",
       "      <th>Member type</th>\n",
       "    </tr>\n",
       "  </thead>\n",
       "  <tbody>\n",
       "    <tr>\n",
       "      <th>0</th>\n",
       "      <td>2017-10-01 15:23:25</td>\n",
       "      <td>2017-10-01 15:26:26</td>\n",
       "      <td>31038</td>\n",
       "      <td>Glebe Rd &amp; 11th St N</td>\n",
       "      <td>31036</td>\n",
       "      <td>George Mason Dr &amp; Wilson Blvd</td>\n",
       "      <td>W20529</td>\n",
       "      <td>Member</td>\n",
       "    </tr>\n",
       "    <tr>\n",
       "      <th>1</th>\n",
       "      <td>2017-10-01 15:42:57</td>\n",
       "      <td>2017-10-01 17:49:59</td>\n",
       "      <td>31036</td>\n",
       "      <td>George Mason Dr &amp; Wilson Blvd</td>\n",
       "      <td>31036</td>\n",
       "      <td>George Mason Dr &amp; Wilson Blvd</td>\n",
       "      <td>W20529</td>\n",
       "      <td>Casual</td>\n",
       "    </tr>\n",
       "    <tr>\n",
       "      <th>2</th>\n",
       "      <td>2017-10-02 06:37:10</td>\n",
       "      <td>2017-10-02 06:42:53</td>\n",
       "      <td>31036</td>\n",
       "      <td>George Mason Dr &amp; Wilson Blvd</td>\n",
       "      <td>31037</td>\n",
       "      <td>Ballston Metro / N Stuart &amp; 9th St N</td>\n",
       "      <td>W20529</td>\n",
       "      <td>Member</td>\n",
       "    </tr>\n",
       "  </tbody>\n",
       "</table>\n",
       "</div>"
      ],
      "text/plain": [
       "            Start date             End date  Start station number  \\\n",
       "0  2017-10-01 15:23:25  2017-10-01 15:26:26                 31038   \n",
       "1  2017-10-01 15:42:57  2017-10-01 17:49:59                 31036   \n",
       "2  2017-10-02 06:37:10  2017-10-02 06:42:53                 31036   \n",
       "\n",
       "                   Start station  End station number  \\\n",
       "0           Glebe Rd & 11th St N               31036   \n",
       "1  George Mason Dr & Wilson Blvd               31036   \n",
       "2  George Mason Dr & Wilson Blvd               31037   \n",
       "\n",
       "                            End station Bike number Member type  \n",
       "0         George Mason Dr & Wilson Blvd      W20529      Member  \n",
       "1         George Mason Dr & Wilson Blvd      W20529      Casual  \n",
       "2  Ballston Metro / N Stuart & 9th St N      W20529      Member  "
      ]
     },
     "metadata": {},
     "output_type": "display_data"
    },
    {
     "name": "stdout",
     "output_type": "stream",
     "text": [
      "0      2017-10-01 15:23:25\n",
      "1      2017-10-01 15:42:57\n",
      "2      2017-10-02 06:37:10\n",
      "3      2017-10-02 08:56:45\n",
      "4      2017-10-02 18:23:48\n",
      "              ...         \n",
      "285    2017-12-29 14:32:55\n",
      "286    2017-12-29 15:08:26\n",
      "287    2017-12-29 20:33:34\n",
      "288    2017-12-30 13:51:03\n",
      "289    2017-12-30 15:09:03\n",
      "Name: Start date, Length: 290, dtype: object\n",
      "Start date                               2017-10-02 06:37:10\n",
      "End date                                 2017-10-02 06:42:53\n",
      "Start station number                                   31036\n",
      "Start station                  George Mason Dr & Wilson Blvd\n",
      "End station number                                     31037\n",
      "End station             Ballston Metro / N Stuart & 9th St N\n",
      "Bike number                                           W20529\n",
      "Member type                                           Member\n",
      "Name: 2, dtype: object\n",
      "\n",
      "\n"
     ]
    },
    {
     "data": {
      "text/plain": [
       "Timestamp('2017-10-02 06:37:10')"
      ]
     },
     "metadata": {},
     "output_type": "display_data"
    },
    {
     "data": {
      "text/plain": [
       "0     0 days 00:03:01\n",
       "1     0 days 02:07:02\n",
       "2     0 days 00:05:43\n",
       "3     0 days 00:21:18\n",
       "4     0 days 00:21:17\n",
       "            ...      \n",
       "285   0 days 00:10:51\n",
       "286   0 days 00:10:25\n",
       "287   0 days 00:04:39\n",
       "288   0 days 00:03:30\n",
       "289   0 days 00:10:10\n",
       "Name: Duration, Length: 290, dtype: timedelta64[ns]"
      ]
     },
     "metadata": {},
     "output_type": "display_data"
    },
    {
     "data": {
      "text/plain": [
       "0     181.0\n",
       "1    7622.0\n",
       "2     343.0\n",
       "3    1278.0\n",
       "4    1277.0\n",
       "Name: Duration, dtype: float64"
      ]
     },
     "metadata": {},
     "output_type": "display_data"
    }
   ],
   "source": [
    "#################\n",
    "#All together\n",
    "#################\n",
    "import pandas as pd\n",
    "rides = pd.read_csv(\"datasets/capital-onebike.csv\")\n",
    "display(rides.head(3))\n",
    "print(rides[\"Start date\"])\n",
    "print(rides.iloc[2])\n",
    "#start time, End time are not datetime object just string or object\n",
    "print('\\n')\n",
    "#We want Pandas to treat this columns as datetime\n",
    "rides = pd.read_csv(\"datasets/capital-onebike.csv\", parse_dates=['Start date', 'End date'] )\n",
    "display(rides[\"Start date\"].iloc[2])\n",
    "#or later with: rides['Start date'] = pd.to_datetime(rides[\"Start date\"], format = \"%Y-%m-%d %H:%M:%S\")\n",
    "\n",
    "#substracting two datetimes gives a timedelta object\n",
    "rides[\"Duration\"] = rides[\"End date\"] - rides[\"Start date\"]\n",
    "display(rides[\"Duration\"])\n",
    "\n",
    "#convert timedelat in second\n",
    "display(rides[\"Duration\"].dt.total_seconds().head(5))\n",
    "\n"
   ]
  },
  {
   "cell_type": "code",
   "execution_count": 267,
   "id": "c5dae178",
   "metadata": {},
   "outputs": [
    {
     "data": {
      "text/plain": [
       "Timedelta('0 days 00:19:38.931034482')"
      ]
     },
     "metadata": {},
     "output_type": "display_data"
    },
    {
     "data": {
      "text/plain": [
       "Timedelta('3 days 22:58:10')"
      ]
     },
     "metadata": {},
     "output_type": "display_data"
    },
    {
     "data": {
      "text/plain": [
       "0.04348417785917786"
      ]
     },
     "metadata": {},
     "output_type": "display_data"
    },
    {
     "data": {
      "text/plain": [
       "0       181.0\n",
       "1      7622.0\n",
       "2       343.0\n",
       "3      1278.0\n",
       "4      1277.0\n",
       "        ...  \n",
       "285     651.0\n",
       "286     625.0\n",
       "287     279.0\n",
       "288     210.0\n",
       "289     610.0\n",
       "Name: Duration seconds, Length: 290, dtype: float64"
      ]
     },
     "metadata": {},
     "output_type": "display_data"
    },
    {
     "data": {
      "text/plain": [
       "Member type\n",
       "Casual    1994.666667\n",
       "Member     992.279661\n",
       "Name: Duration seconds, dtype: float64"
      ]
     },
     "metadata": {},
     "output_type": "display_data"
    },
    {
     "data": {
      "text/plain": [
       "Start date\n",
       "2017-10-31    1886.453704\n",
       "2017-11-30     854.174757\n",
       "2017-12-31     635.101266\n",
       "Freq: M, Name: Duration seconds, dtype: float64"
      ]
     },
     "metadata": {},
     "output_type": "display_data"
    },
    {
     "data": {
      "text/plain": [
       "Member type\n",
       "Casual     54\n",
       "Member    236\n",
       "dtype: int64"
      ]
     },
     "metadata": {},
     "output_type": "display_data"
    },
    {
     "data": {
      "text/html": [
       "<div>\n",
       "<style scoped>\n",
       "    .dataframe tbody tr th:only-of-type {\n",
       "        vertical-align: middle;\n",
       "    }\n",
       "\n",
       "    .dataframe tbody tr th {\n",
       "        vertical-align: top;\n",
       "    }\n",
       "\n",
       "    .dataframe thead th {\n",
       "        text-align: right;\n",
       "    }\n",
       "</style>\n",
       "<table border=\"1\" class=\"dataframe\">\n",
       "  <thead>\n",
       "    <tr style=\"text-align: right;\">\n",
       "      <th></th>\n",
       "      <th>Start date</th>\n",
       "      <th>End date</th>\n",
       "      <th>Start station number</th>\n",
       "      <th>Start station</th>\n",
       "      <th>End station number</th>\n",
       "      <th>End station</th>\n",
       "      <th>Bike number</th>\n",
       "      <th>Duration</th>\n",
       "      <th>Duration seconds</th>\n",
       "    </tr>\n",
       "    <tr>\n",
       "      <th>Member type</th>\n",
       "      <th></th>\n",
       "      <th></th>\n",
       "      <th></th>\n",
       "      <th></th>\n",
       "      <th></th>\n",
       "      <th></th>\n",
       "      <th></th>\n",
       "      <th></th>\n",
       "      <th></th>\n",
       "    </tr>\n",
       "  </thead>\n",
       "  <tbody>\n",
       "    <tr>\n",
       "      <th>Casual</th>\n",
       "      <td>2017-10-01 15:42:57</td>\n",
       "      <td>2017-10-01 17:49:59</td>\n",
       "      <td>31036</td>\n",
       "      <td>George Mason Dr &amp; Wilson Blvd</td>\n",
       "      <td>31036</td>\n",
       "      <td>George Mason Dr &amp; Wilson Blvd</td>\n",
       "      <td>W20529</td>\n",
       "      <td>0 days 02:07:02</td>\n",
       "      <td>7622.0</td>\n",
       "    </tr>\n",
       "    <tr>\n",
       "      <th>Member</th>\n",
       "      <td>2017-10-01 15:23:25</td>\n",
       "      <td>2017-10-01 15:26:26</td>\n",
       "      <td>31038</td>\n",
       "      <td>Glebe Rd &amp; 11th St N</td>\n",
       "      <td>31036</td>\n",
       "      <td>George Mason Dr &amp; Wilson Blvd</td>\n",
       "      <td>W20529</td>\n",
       "      <td>0 days 00:03:01</td>\n",
       "      <td>181.0</td>\n",
       "    </tr>\n",
       "  </tbody>\n",
       "</table>\n",
       "</div>"
      ],
      "text/plain": [
       "                     Start date            End date  Start station number  \\\n",
       "Member type                                                                 \n",
       "Casual      2017-10-01 15:42:57 2017-10-01 17:49:59                 31036   \n",
       "Member      2017-10-01 15:23:25 2017-10-01 15:26:26                 31038   \n",
       "\n",
       "                             Start station  End station number  \\\n",
       "Member type                                                      \n",
       "Casual       George Mason Dr & Wilson Blvd               31036   \n",
       "Member                Glebe Rd & 11th St N               31036   \n",
       "\n",
       "                               End station Bike number        Duration  \\\n",
       "Member type                                                              \n",
       "Casual       George Mason Dr & Wilson Blvd      W20529 0 days 02:07:02   \n",
       "Member       George Mason Dr & Wilson Blvd      W20529 0 days 00:03:01   \n",
       "\n",
       "             Duration seconds  \n",
       "Member type                    \n",
       "Casual                 7622.0  \n",
       "Member                  181.0  "
      ]
     },
     "metadata": {},
     "output_type": "display_data"
    },
    {
     "data": {
      "text/plain": [
       "<Axes: xlabel='Start date'>"
      ]
     },
     "execution_count": 267,
     "metadata": {},
     "output_type": "execute_result"
    },
    {
     "data": {
      "image/png": "[encoded data removed]",
      "text/plain": [
       "<Figure size 640x480 with 1 Axes>"
      ]
     },
     "metadata": {},
     "output_type": "display_data"
    }
   ],
   "source": [
    "#########################################\n",
    "#summarizing datetime data in Pandas\n",
    "#########################################\n",
    "display(rides[\"Duration\"].mean())\n",
    "display(rides[\"Duration\"].sum())\n",
    "\n",
    "display(rides[\"Duration\"].sum() / timedelta(days=91))\n",
    "\n",
    "rides[\"Member type\"].value_counts() / len(rides)\n",
    "#81% of rides where from members\n",
    "\n",
    "#add duration in seconds\n",
    "rides[\"Duration seconds\"] = rides[\"Duration\"].dt.total_seconds()\n",
    "display(rides[\"Duration seconds\"] )\n",
    "\n",
    "display(rides.groupby(\"Member type\")[\"Duration seconds\"].mean())\n",
    "\n",
    "#groupbby time with a unit of time here M for month\n",
    "display(rides.resample('M', on=\"Start date\")[\"Duration seconds\"].mean())\n",
    "\n",
    "display(rides.groupby(\"Member type\").size())\n",
    "display(rides.groupby(\"Member type\").first())\n",
    "\n",
    "#visualize\n",
    "rides.resample('d', on=\"Start date\")[\"Duration seconds\"].mean().plot()\n",
    "# pick in October possibly a bike repair\n"
   ]
  },
  {
   "cell_type": "code",
   "execution_count": 268,
   "id": "dcaa78bc",
   "metadata": {},
   "outputs": [
    {
     "name": "stdout",
     "output_type": "stream",
     "text": [
      "bool\n",
      "6 rides were joyrides\n",
      "The median duration overall was  660  seconds\n",
      "The median duration for joyrides was  2642.5  seconds\n"
     ]
    },
    {
     "data": {
      "image/png": "[encoded data removed]",
      "text/plain": [
       "<Figure size 640x480 with 1 Axes>"
      ]
     },
     "metadata": {},
     "output_type": "display_data"
    }
   ],
   "source": [
    "# Create joyrides\n",
    "joyrides = (rides['Start station'] == rides['End station'])\n",
    "print(joyrides.dtype)\n",
    "\n",
    "# Total number of joyrides\n",
    "print(\"{} rides were joyrides\".format(joyrides.sum()))\n",
    "\n",
    "# Median of all rides\n",
    "print(\"The median duration overall was \", rides['Duration'].median().seconds, \" seconds\")\n",
    "\n",
    "# Median of joyrides\n",
    "print(\"The median duration for joyrides was \", rides[joyrides]['Duration seconds'].median(), \" seconds\")\n",
    "\n",
    "\n",
    "# Resample rides to daily, take the size, plot the results\n",
    "rides.resample('D', on = 'Start date')\\\n",
    "  .size()\\\n",
    "  .plot(ylim = [0, 15])\n",
    "\n",
    "# Show the results\n",
    "import matplotlib.pyplot as plt\n",
    "plt.show()\n",
    "\n"
   ]
  },
  {
   "cell_type": "code",
   "execution_count": 269,
   "id": "7aed896c",
   "metadata": {},
   "outputs": [
    {
     "name": "stdout",
     "output_type": "stream",
     "text": [
      "Start date  Member type\n",
      "2017-10-31  Member         0.768519\n",
      "            Casual         0.231481\n",
      "2017-11-30  Member         0.825243\n",
      "            Casual         0.174757\n",
      "2017-12-31  Member         0.860759\n",
      "            Casual         0.139241\n",
      "Name: Member type, dtype: float64\n",
      "Member type  Start date\n",
      "Casual       2017-10-31    1636.0\n",
      "             2017-11-30    1159.5\n",
      "             2017-12-31     850.0\n",
      "Member       2017-10-31     671.0\n",
      "             2017-11-30     655.0\n",
      "             2017-12-31     387.5\n",
      "Name: Duration seconds, dtype: float64\n"
     ]
    }
   ],
   "source": [
    "# Resample rides to be monthly on the basis of Start date\n",
    "monthly_rides = rides.resample('M', on=\"Start date\")['Member type']\n",
    "\n",
    "# Take the ratio of the .value_counts() over the total number of rides\n",
    "print(monthly_rides.value_counts() / monthly_rides.size())\n",
    "\n",
    "#Combining groupby() and resample()\n",
    "# Group rides by member type, and resample to the month\n",
    "grouped = rides.groupby('Member type')\\\n",
    "  .resample('M', on='Start date')\n",
    "\n",
    "# Print the median duration for each group\n",
    "print(grouped['Duration seconds'].median())\n",
    "#casual riders consistently took longer rides, \n",
    "#but that both groups took shorter rides as the months went by.\n"
   ]
  },
  {
   "cell_type": "code",
   "execution_count": 270,
   "id": "95e11dd4",
   "metadata": {},
   "outputs": [
    {
     "data": {
      "text/plain": [
       "0   2017-10-01 15:23:25\n",
       "1   2017-10-01 15:42:57\n",
       "2   2017-10-02 06:37:10\n",
       "Name: Start date, dtype: datetime64[ns]"
      ]
     },
     "metadata": {},
     "output_type": "display_data"
    },
    {
     "data": {
      "text/plain": [
       "0   2017-10-01 15:23:25-04:00\n",
       "1   2017-10-01 15:42:57-04:00\n",
       "2   2017-10-02 06:37:10-04:00\n",
       "Name: Start date, dtype: datetime64[ns, America/New_York]"
      ]
     },
     "metadata": {},
     "output_type": "display_data"
    }
   ],
   "source": [
    "#timezones in Pandas\n",
    "rides[\"Duration\"].dt.total_seconds().min()\n",
    "\n",
    "#something wrong because of Daylight saving\n",
    "display(rides['Start date'].head(3))\n",
    "#these datetime object are timezone naive\n",
    "#there's no UTC offset\n",
    "\n",
    "#put a timezone on a datetime object\n",
    "display(rides['Start date'].head(3).dt.tz_localize('America/New_York'))\n",
    "\n",
    "#rides['Start date'] = rides['Start date'].dt.tz_localize('America/New_York') \n",
    "#AmbiguousTimeError because one datetime occurs during the Daylight Saving shift\n",
    "\n"
   ]
  },
  {
   "cell_type": "code",
   "execution_count": 271,
   "id": "d7dd845c",
   "metadata": {},
   "outputs": [
    {
     "data": {
      "text/plain": [
       "116.0"
      ]
     },
     "execution_count": 271,
     "metadata": {},
     "output_type": "execute_result"
    }
   ],
   "source": [
    "#Handle ambiguous datetimes\n",
    "rides['Start date'] = rides['Start date'].dt.tz_localize('America/New_York', ambiguous='NaT')\n",
    "rides['End date'] = rides['End date'].dt.tz_localize('America/New_York', ambiguous='NaT')\n",
    "\n",
    "#re-calculate duration with timezone\n",
    "rides['Duration'] = rides['End date'] - rides['Start date']\n",
    "rides['Duration'].dt.total_seconds().min()"
   ]
  },
  {
   "cell_type": "code",
   "execution_count": 272,
   "id": "ce720637",
   "metadata": {},
   "outputs": [
    {
     "data": {
      "text/plain": [
       "Start date                        NaT\n",
       "End date                          NaT\n",
       "Start station number            31615\n",
       "Start station           6th & H St NE\n",
       "End station number              31627\n",
       "End station             3rd & M St NE\n",
       "Bike number                    W20529\n",
       "Member type                    Member\n",
       "Duration                          NaT\n",
       "Duration seconds              -3346.0\n",
       "Name: 129, dtype: object"
      ]
     },
     "metadata": {},
     "output_type": "display_data"
    },
    {
     "data": {
      "text/plain": [
       "0    10\n",
       "1    10\n",
       "2    10\n",
       "Name: Start date, dtype: int64"
      ]
     },
     "metadata": {},
     "output_type": "display_data"
    },
    {
     "data": {
      "text/plain": [
       "0    Sunday\n",
       "1    Sunday\n",
       "2    Monday\n",
       "Name: Start date, dtype: object"
      ]
     },
     "metadata": {},
     "output_type": "display_data"
    }
   ],
   "source": [
    "#look at problematic row : NaT values\n",
    "display(rides.iloc[129])\n",
    "\n",
    "#Other datetime operations in Pandas\n",
    "display(rides[\"Start date\"].head(3).dt.month)\n",
    "display(rides[\"Start date\"].head(3).dt.day_name())"
   ]
  },
  {
   "cell_type": "code",
   "execution_count": 273,
   "id": "a5660fd5",
   "metadata": {},
   "outputs": [
    {
     "name": "stdout",
     "output_type": "stream",
     "text": [
      "2017-10-01 20:23:25+01:00\n",
      "Ride start weekday\n",
      "Friday       684.0\n",
      "Monday       922.5\n",
      "Saturday     610.0\n",
      "Sunday       625.0\n",
      "Thursday     659.0\n",
      "Tuesday      644.0\n",
      "Wednesday    629.0\n",
      "Name: Duration, dtype: float64\n"
     ]
    }
   ],
   "source": [
    "# Convert the Start date column to Europe/London\n",
    "rides['Start date'] = rides['Start date'].dt.tz_convert('Europe/London')\n",
    "\n",
    "# Print the new value\n",
    "print(rides['Start date'].iloc[0])\n",
    "\n",
    "# Add a column for the weekday of the start of the ride\n",
    "rides['Ride start weekday'] = rides['Start date'].dt.day_name()\n",
    "rides['Duration'] = rides['Duration'].dt.total_seconds()\n",
    "\n",
    "# Print the median trip time per weekday\n",
    "print(rides.groupby('Ride start weekday')['Duration'].median())"
   ]
  },
  {
   "cell_type": "code",
   "execution_count": 277,
   "id": "e8b67115",
   "metadata": {},
   "outputs": [
    {
     "name": "stdout",
     "output_type": "stream",
     "text": [
      "Start date\n",
      "2017-10-31 00:00:00+00:00    5.519242\n",
      "2017-11-30 00:00:00+00:00    7.256474\n",
      "2017-12-31 00:00:00+00:00    9.202380\n",
      "Name: Time since, dtype: float64\n"
     ]
    }
   ],
   "source": [
    "# Shift the index of the end date up one; now subract it from the start date\n",
    "rides['Time since'] = rides['Start date'] - (rides['End date'].shift(1))\n",
    "\n",
    "# Move from a timedelta to a number of seconds, which is easier to work with\n",
    "rides['Time since'] = rides['Time since'].dt.total_seconds()\n",
    "\n",
    "# Resample to the month\n",
    "monthly = rides.resample('M', on=\"Start date\")\n",
    "\n",
    "# Print the average hours between rides each month\n",
    "print(monthly['Time since'].mean()/(60*60))"
   ]
  }
 ],
 "metadata": {
  "kernelspec": {
   "display_name": "Python 3 (ipykernel)",
   "language": "python",
   "name": "python3"
  },
  "language_info": {
   "codemirror_mode": {
    "name": "ipython",
    "version": 3
   },
   "file_extension": ".py",
   "mimetype": "text/x-python",
   "name": "python",
   "nbconvert_exporter": "python",
   "pygments_lexer": "ipython3",
   "version": "3.10.9"
  }
 },
 "nbformat": 4,
 "nbformat_minor": 5
}
