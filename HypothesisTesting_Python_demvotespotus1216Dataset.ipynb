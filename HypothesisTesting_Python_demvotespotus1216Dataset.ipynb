{
 "cells": [
  {
   "cell_type": "code",
   "execution_count": 7,
   "id": "0ed1da5a",
   "metadata": {},
   "outputs": [
    {
     "data": {
      "text/html": [
       "<div>\n",
       "<style scoped>\n",
       "    .dataframe tbody tr th:only-of-type {\n",
       "        vertical-align: middle;\n",
       "    }\n",
       "\n",
       "    .dataframe tbody tr th {\n",
       "        vertical-align: top;\n",
       "    }\n",
       "\n",
       "    .dataframe thead th {\n",
       "        text-align: right;\n",
       "    }\n",
       "</style>\n",
       "<table border=\"1\" class=\"dataframe\">\n",
       "  <thead>\n",
       "    <tr style=\"text-align: right;\">\n",
       "      <th></th>\n",
       "      <th>state</th>\n",
       "      <th>county</th>\n",
       "      <th>dem_percent_12</th>\n",
       "      <th>dem_percent_16</th>\n",
       "    </tr>\n",
       "  </thead>\n",
       "  <tbody>\n",
       "    <tr>\n",
       "      <th>0</th>\n",
       "      <td>Alabama</td>\n",
       "      <td>Bullock</td>\n",
       "      <td>76.305900</td>\n",
       "      <td>74.946921</td>\n",
       "    </tr>\n",
       "    <tr>\n",
       "      <th>1</th>\n",
       "      <td>Alabama</td>\n",
       "      <td>Chilton</td>\n",
       "      <td>19.453671</td>\n",
       "      <td>15.847352</td>\n",
       "    </tr>\n",
       "    <tr>\n",
       "      <th>2</th>\n",
       "      <td>Alabama</td>\n",
       "      <td>Clay</td>\n",
       "      <td>26.673672</td>\n",
       "      <td>18.674517</td>\n",
       "    </tr>\n",
       "    <tr>\n",
       "      <th>3</th>\n",
       "      <td>Alabama</td>\n",
       "      <td>Cullman</td>\n",
       "      <td>14.661752</td>\n",
       "      <td>10.028252</td>\n",
       "    </tr>\n",
       "    <tr>\n",
       "      <th>4</th>\n",
       "      <td>Alabama</td>\n",
       "      <td>Escambia</td>\n",
       "      <td>36.915731</td>\n",
       "      <td>31.020546</td>\n",
       "    </tr>\n",
       "  </tbody>\n",
       "</table>\n",
       "</div>"
      ],
      "text/plain": [
       "     state    county  dem_percent_12  dem_percent_16\n",
       "0  Alabama   Bullock       76.305900       74.946921\n",
       "1  Alabama   Chilton       19.453671       15.847352\n",
       "2  Alabama      Clay       26.673672       18.674517\n",
       "3  Alabama   Cullman       14.661752       10.028252\n",
       "4  Alabama  Escambia       36.915731       31.020546"
      ]
     },
     "metadata": {},
     "output_type": "display_data"
    }
   ],
   "source": [
    "import pandas as pd\n",
    "import numpy as np\n",
    "import matplotlib.pyplot as plt\n",
    "\n",
    "dem_votes_potus_12_16 = pd.read_feather('datasets/dem_votes_potus_12_16.feather')\n",
    "display(dem_votes_potus_12_16.head())\n"
   ]
  },
  {
   "cell_type": "code",
   "execution_count": 8,
   "id": "d94b497a",
   "metadata": {},
   "outputs": [
    {
     "name": "stdout",
     "output_type": "stream",
     "text": [
      "     state    county  dem_percent_12  dem_percent_16      diff\n",
      "0  Alabama   Bullock       76.305900       74.946921  1.358979\n",
      "1  Alabama   Chilton       19.453671       15.847352  3.606319\n",
      "2  Alabama      Clay       26.673672       18.674517  7.999155\n",
      "3  Alabama   Cullman       14.661752       10.028252  4.633500\n",
      "4  Alabama  Escambia       36.915731       31.020546  5.895185\n",
      "6.829312660106834\n",
      "5.040139140132316\n"
     ]
    },
    {
     "data": {
      "image/png": "[encoded data removed]",
      "text/plain": [
       "<Figure size 640x480 with 1 Axes>"
      ]
     },
     "metadata": {},
     "output_type": "display_data"
    }
   ],
   "source": [
    "#######################\n",
    "#paired t test\n",
    "#######################\n",
    "\n",
    "sample_dem_data = dem_votes_potus_12_16\n",
    "sample_dem_data[\"diff\"] = sample_dem_data[\"dem_percent_12\"] - sample_dem_data[\"dem_percent_16\"]\n",
    "print(sample_dem_data.head())\n",
    "\n",
    "# Find the mean of the diff column\n",
    "xbar_diff = sample_dem_data['diff'].mean()\n",
    "\n",
    "# Print xbar_diff\n",
    "print(xbar_diff)\n",
    "\n",
    "# Find the standard deviation of the diff column\n",
    "s_diff = sample_dem_data['diff'].std()\n",
    "\n",
    "# Print xbar_diff\n",
    "print(s_diff)\n",
    "\n",
    "# Plot a histogram of diff with 20 bins\n",
    "sample_dem_data['diff'].hist(bins=20)\n",
    "plt.show()\n",
    "\n",
    "#the majority of the histogram lies to the right of zero."
   ]
  },
  {
   "cell_type": "code",
   "execution_count": 12,
   "id": "13e7c168",
   "metadata": {},
   "outputs": [
    {
     "name": "stdout",
     "output_type": "stream",
     "text": [
      "                T  dof alternative          p-val         CI95%   cohen-d  \\\n",
      "T-test  30.298384  499   two-sided  3.600634e-115  [6.39, 7.27]  1.354985   \n",
      "\n",
      "              BF10  power  \n",
      "T-test  2.246e+111    1.0  \n"
     ]
    }
   ],
   "source": [
    "###################\n",
    "#Using ttest()\n",
    "###################\n",
    "alpha =0.01\n",
    "#you'll explore the difference between the proportion of county-level votes \n",
    "#for the Democratic candidate in 2012 and 2016 \n",
    "#to identify if the difference is significant. \n",
    "#The hypotheses are as follows:\n",
    "\n",
    "#H0: The proportion of democratic votes in 2012 and 2016 were the same. \n",
    "#HA: The proportion of democratic votes in 2012 and 2016 were different.\n",
    "\n",
    "#Conduct a t-test on the sample differences\n",
    "#!pip install pingouin\n",
    "import pingouin\n",
    "test_results = pingouin.ttest( x=sample_dem_data['diff'], \n",
    "                               y=0, \n",
    "                               alternative = \"two-sided\")\n",
    "print(test_results)\n",
    "\n",
    "#p_value <<<< alpha\n",
    "#Reject the null hypothesis in favor of the alternative hypothesis\n",
    "#he proportion of democratic votes in 2012 and 2016 were different.\n"
   ]
  },
  {
   "cell_type": "code",
   "execution_count": 13,
   "id": "95e3514e",
   "metadata": {},
   "outputs": [
    {
     "name": "stdout",
     "output_type": "stream",
     "text": [
      "                T  dof alternative          p-val         CI95%   cohen-d  \\\n",
      "T-test  30.298384  499   two-sided  3.600634e-115  [6.39, 7.27]  0.454202   \n",
      "\n",
      "              BF10  power  \n",
      "T-test  2.246e+111    1.0  \n"
     ]
    }
   ],
   "source": [
    "test_results = pingouin.ttest( x=sample_dem_data[\"dem_percent_12\"], \n",
    "                               y=sample_dem_data[\"dem_percent_16\"], \n",
    "                               paired=True, \n",
    "                               alternative = \"two-sided\")\n",
    "print(test_results)\n",
    "\n",
    "#Using .ttest() avoid manual calculation to run the test. \n",
    "#When you have paired data, a paired t-test is preferable to the unpaired version \n",
    "#because it reduces the chance of a false negative error.\n",
    "#p_value much bigger when unpaired\n"
   ]
  },
  {
   "cell_type": "code",
   "execution_count": 19,
   "id": "2a3520fe",
   "metadata": {},
   "outputs": [
    {
     "name": "stdout",
     "output_type": "stream",
     "text": [
      "(500, 5)\n"
     ]
    },
    {
     "data": {
      "text/html": [
       "<div>\n",
       "<style scoped>\n",
       "    .dataframe tbody tr th:only-of-type {\n",
       "        vertical-align: middle;\n",
       "    }\n",
       "\n",
       "    .dataframe tbody tr th {\n",
       "        vertical-align: top;\n",
       "    }\n",
       "\n",
       "    .dataframe thead th {\n",
       "        text-align: right;\n",
       "    }\n",
       "</style>\n",
       "<table border=\"1\" class=\"dataframe\">\n",
       "  <thead>\n",
       "    <tr style=\"text-align: right;\">\n",
       "      <th></th>\n",
       "      <th>T</th>\n",
       "      <th>dof</th>\n",
       "      <th>alternative</th>\n",
       "      <th>p-val</th>\n",
       "      <th>CI95%</th>\n",
       "      <th>cohen-d</th>\n",
       "      <th>BF10</th>\n",
       "      <th>power</th>\n",
       "    </tr>\n",
       "  </thead>\n",
       "  <tbody>\n",
       "    <tr>\n",
       "      <th>T-test</th>\n",
       "      <td>30.298384</td>\n",
       "      <td>499</td>\n",
       "      <td>two-sided</td>\n",
       "      <td>3.600634e-115</td>\n",
       "      <td>[6.39, 7.27]</td>\n",
       "      <td>0.454202</td>\n",
       "      <td>2.246e+111</td>\n",
       "      <td>1.0</td>\n",
       "    </tr>\n",
       "  </tbody>\n",
       "</table>\n",
       "</div>"
      ],
      "text/plain": [
       "                T  dof alternative          p-val         CI95%   cohen-d  \\\n",
       "T-test  30.298384  499   two-sided  3.600634e-115  [6.39, 7.27]  0.454202   \n",
       "\n",
       "              BF10  power  \n",
       "T-test  2.246e+111    1.0  "
      ]
     },
     "metadata": {},
     "output_type": "display_data"
    },
    {
     "name": "stdout",
     "output_type": "stream",
     "text": [
      "           W-val alternative         p-val       RBC      CLES\n",
      "Wilcoxon  2401.0   two-sided  1.780396e-77  0.961661  0.644816\n"
     ]
    }
   ],
   "source": [
    "#Wilcoxon signed-rank test\n",
    "#difference between the proportion of county-level votes for the Democratic candidate in 2012 and 2016 \n",
    "#to identify if the difference is significant.\n",
    "\n",
    "print(sample_dem_data.shape)\n",
    "import pingouin\n",
    "\n",
    "# Conduct a paired t-test on dem_percent_12 and dem_percent_16\n",
    "paired_test_results = pingouin.ttest(x=sample_dem_data[\"dem_percent_12\"],\n",
    "                                    y=sample_dem_data[\"dem_percent_16\"],\n",
    "                                    paired=True,\n",
    "                                    alternative='two-sided') \n",
    "\n",
    "# Print paired t-test results\n",
    "display(paired_test_results)\n",
    "\n",
    "# Conduct a Wilcoxon test on dem_percent_12 and dem_percent_16\n",
    "wilcoxon_test_results = pingouin.wilcoxon(x=sample_dem_data[\"dem_percent_12\"],\n",
    "                                    y=sample_dem_data[\"dem_percent_16\"],\n",
    "                                    alternative='two-sided') \n",
    "\n",
    "# Print Wilcoxon test results\n",
    "print(wilcoxon_test_results)\n",
    "\n",
    "\n",
    "# Given the large sample size (500), you obtained similar results here \n",
    "#between the parametric t-test and non-parametric Wilcoxon test with a very small p-value.\n"
   ]
  }
 ],
 "metadata": {
  "kernelspec": {
   "display_name": "Python 3 (ipykernel)",
   "language": "python",
   "name": "python3"
  },
  "language_info": {
   "codemirror_mode": {
    "name": "ipython",
    "version": 3
   },
   "file_extension": ".py",
   "mimetype": "text/x-python",
   "name": "python",
   "nbconvert_exporter": "python",
   "pygments_lexer": "ipython3",
   "version": "3.10.9"
  }
 },
 "nbformat": 4,
 "nbformat_minor": 5
}
