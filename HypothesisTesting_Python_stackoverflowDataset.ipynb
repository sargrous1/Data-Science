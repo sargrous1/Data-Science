{
 "cells": [
  {
   "cell_type": "code",
   "execution_count": 2,
   "id": "320f3b9a",
   "metadata": {},
   "outputs": [
    {
     "data": {
      "text/plain": [
       "Index(['respondent', 'main_branch', 'hobbyist', 'age', 'age_1st_code',\n",
       "       'age_first_code_cut', 'comp_freq', 'comp_total', 'converted_comp',\n",
       "       'country', 'currency_desc', 'currency_symbol',\n",
       "       'database_desire_next_year', 'database_worked_with', 'dev_type',\n",
       "       'ed_level', 'employment', 'ethnicity', 'gender', 'job_factors',\n",
       "       'job_sat', 'job_seek', 'language_desire_next_year',\n",
       "       'language_worked_with', 'misc_tech_desire_next_year',\n",
       "       'misc_tech_worked_with', 'new_collab_tools_desire_next_year',\n",
       "       'new_collab_tools_worked_with', 'new_dev_ops', 'new_dev_ops_impt',\n",
       "       'new_ed_impt', 'new_job_hunt', 'new_job_hunt_research', 'new_learn',\n",
       "       'new_off_topic', 'new_onboard_good', 'new_other_comms', 'new_overtime',\n",
       "       'new_purchase_research', 'purple_link', 'newso_sites', 'new_stuck',\n",
       "       'op_sys', 'org_size', 'platform_desire_next_year',\n",
       "       'platform_worked_with', 'purchase_what', 'sexuality', 'so_account',\n",
       "       'so_comm', 'so_part_freq', 'so_visit_freq', 'survey_ease',\n",
       "       'survey_length', 'trans', 'undergrad_major',\n",
       "       'webframe_desire_next_year', 'webframe_worked_with', 'welcome_change',\n",
       "       'work_week_hrs', 'years_code', 'years_code_pro', 'age_cat'],\n",
       "      dtype='object')"
      ]
     },
     "metadata": {},
     "output_type": "display_data"
    }
   ],
   "source": [
    "import pandas as pd\n",
    "import numpy as np\n",
    "\n",
    "stack_overflow = pd.read_feather('datasets/stack_overflow.feather')\n",
    "display(stack_overflow.columns)"
   ]
  },
  {
   "cell_type": "code",
   "execution_count": 10,
   "id": "b5c7698e",
   "metadata": {},
   "outputs": [
    {
     "name": "stdout",
     "output_type": "stream",
     "text": [
      "119574.71738168952\n"
     ]
    },
    {
     "data": {
      "image/png": "[encoded data removed]",
      "text/plain": [
       "<Figure size 640x480 with 1 Axes>"
      ]
     },
     "metadata": {},
     "output_type": "display_data"
    }
   ],
   "source": [
    "###################################################\n",
    "#Hypothesizing about the mean\n",
    "#compare a sample mean to a hypothesis value\n",
    "###################################################\n",
    "import matplotlib.pyplot as plt\n",
    "mean_comp_samp = stack_overflow[\"converted_comp\"].mean()\n",
    "print(mean_comp_samp)\n",
    "\n",
    "#Hypothesis is that the mean annual compensation of the population of DS is $110,000\n",
    "#The sample mean of 119,574.71 is different form our hypothesis. \n",
    "#Is it meaningfully different or is it due to the variability of the samples?\n",
    "\n",
    "\n",
    "#Let's generate a bootstrap distribution of sample mean\n",
    "so_boot_distn = []\n",
    "for i in range(5000):\n",
    "    so_boot_distn.append(np.mean(stack_overflow.sample(frac=1, replace=True)[\"converted_comp\"]))\n",
    "plt.hist(so_boot_distn, bins=50)   \n",
    "plt.show()\n",
    "#it's bell shape, almost normaly distributed\n",
    "#$110,000 is on the left side of the distribution\n"
   ]
  },
  {
   "cell_type": "code",
   "execution_count": 26,
   "id": "60a53118",
   "metadata": {},
   "outputs": [
    {
     "name": "stdout",
     "output_type": "stream",
     "text": [
      "1.7161447144332602\n",
      "0.0430677795010167\n"
     ]
    },
    {
     "data": {
      "text/plain": [
       "True"
      ]
     },
     "execution_count": 26,
     "metadata": {},
     "output_type": "execute_result"
    }
   ],
   "source": [
    "#############################################\n",
    "#For hypothesis testing, calculate z-score\n",
    "#############################################\n",
    "#std_error of the statistic\n",
    "std_error = np.std(so_boot_distn, ddof=1)\n",
    "#hypothesized parameter\n",
    "mean_comp_hyp = 110000\n",
    "#sample mean\n",
    "mean_comp_samp = stack_overflow[\"converted_comp\"].mean()\n",
    "\n",
    "z_score = (mean_comp_samp - mean_comp_hyp) / std_error\n",
    "print(z_score)\n",
    "\n",
    "#z_score is a standardized measure of the difference between the sample statistic\n",
    "#and the hypothesized statistics\n",
    "\n",
    "#then calculate p_value HA:Is it greater than $110000? we use a right tailed test\n",
    "from scipy.stats import norm\n",
    "p_value = 1-norm.cdf(z_score, loc=0, scale=1)\n",
    "print(p_value)\n",
    "#measure evidence against the H0 comparing p_value and the significance level\n",
    "p_value < 0.05  (significance level of 5% is usually used)\n",
    "#we reject H0 in favor of HA"
   ]
  },
  {
   "cell_type": "code",
   "execution_count": 27,
   "id": "7d398ac8",
   "metadata": {},
   "outputs": [
    {
     "name": "stdout",
     "output_type": "stream",
     "text": [
      "adult:  111313.31104651163 child:  132419.5706214689\n",
      "adult:  271546.5217287417 child:  255585.2401149758\n",
      "adult:  1376 child:  885\n",
      "1.8699313316221844\n"
     ]
    }
   ],
   "source": [
    "###########################################\n",
    "#Calculating groupwise summary statistics\n",
    "###########################################\n",
    "stack_overflow.groupby('age_first_code_cut')[\"converted_comp\"].mean()\n",
    "\n",
    "#the child programmers have a mean compensation of 132,000 dollars \n",
    "#compared to around 111,000 for adult programmers.\n",
    "#Is that increase statistically significant or could it be explained by sampling variability?\n",
    "\n",
    "#HO: the mean compensation is the SAME for those that coded first as a child than those that coded first as an adult\n",
    "#HA: the mean compensation is GREATER for those thar coded first as a child compared to as an adult\n",
    "\n",
    "xbar = stack_overflow.groupby(\"age_first_code_cut\")[\"converted_comp\"].mean()\n",
    "xbar_adult = xbar[0]\n",
    "xbar_child = xbar[1]\n",
    "print(\"adult: \", xbar_adult, \"child: \", xbar_child)\n",
    "\n",
    "s = stack_overflow.groupby(\"age_first_code_cut\")[\"converted_comp\"].std()\n",
    "s_adult = s[0]\n",
    "s_child = s[1]\n",
    "print(\"adult: \", s_adult, \"child: \", s_child)\n",
    "\n",
    "n = stack_overflow.groupby(\"age_first_code_cut\")[\"converted_comp\"].count()\n",
    "n_adult = n[0]\n",
    "n_child = n[1]\n",
    "print(\"adult: \", n_adult, \"child: \", n_child)\n",
    "\n",
    "\n",
    "# Calculate the numerator of the test statistic\n",
    "numerator = xbar_child - xbar_adult\n",
    "\n",
    "# Calculate the denominator of the test statistic\n",
    "denominator = np.sqrt(s_adult ** 2 / n_adult + s_child ** 2 / n_child)\n",
    "\n",
    "# Calculate the test statistic\n",
    "t_stat = numerator / denominator\n",
    "\n",
    "# Print the test statistic\n",
    "print(t_stat)\n",
    "\n",
    "# We can't draw any conclusion here (same as with z_score)\n"
   ]
  },
  {
   "cell_type": "code",
   "execution_count": 33,
   "id": "b545e8c5",
   "metadata": {},
   "outputs": [
    {
     "name": "stdout",
     "output_type": "stream",
     "text": [
      "2259\n",
      "0.030811302165157595\n",
      "Reject the Null hypothesis in favor of HA: DS who started coding as children earn more !\n"
     ]
    }
   ],
   "source": [
    "#Ha is a greater than alternative hypothesis\n",
    "#we need to use a right_tailed test\n",
    "\n",
    "#Enter the significance level now\n",
    "alpha = 0.1\n",
    "\n",
    "degrees_of_freedom = n_adult + n_child -2\n",
    "print(degrees_of_freedom)\n",
    "\n",
    "from scipy.stats import t\n",
    "p_value = 1- t.cdf(t_stat, df = degrees_of_freedom)\n",
    "print(p_value)\n",
    "\n",
    "if (p_value < alpha) == True:\n",
    "    print(\"Reject the Null hypothesis in favor of HA: DS who started coding as children earn more !\")\n"
   ]
  },
  {
   "cell_type": "code",
   "execution_count": 41,
   "id": "5bd296d8",
   "metadata": {},
   "outputs": [
    {
     "name": "stdout",
     "output_type": "stream",
     "text": [
      "Under 30       1211\n",
      "At least 30    1050\n",
      "Name: age_cat, dtype: int64\n",
      "Very satisfied           879\n",
      "Slightly satisfied       680\n",
      "Slightly dissatisfied    342\n",
      "Neither                  201\n",
      "Very dissatisfied        159\n",
      "Name: job_sat, dtype: int64\n",
      "job_sat                age_cat    \n",
      "Very dissatisfied      Under 30       0.509434\n",
      "                       At least 30    0.490566\n",
      "Slightly dissatisfied  Under 30       0.532164\n",
      "                       At least 30    0.467836\n",
      "Neither                Under 30       0.567164\n",
      "                       At least 30    0.432836\n",
      "Slightly satisfied     Under 30       0.564706\n",
      "                       At least 30    0.435294\n",
      "Very satisfied         Under 30       0.511945\n",
      "                       At least 30    0.488055\n",
      "Name: age_cat, dtype: float64\n",
      "age_cat                At least 30  Under 30\n",
      "job_sat                                     \n",
      "Very dissatisfied         0.490566  0.509434\n",
      "Slightly dissatisfied     0.467836  0.532164\n",
      "Neither                   0.432836  0.567164\n",
      "Slightly satisfied        0.435294  0.564706\n",
      "Very satisfied            0.488055  0.511945\n"
     ]
    },
    {
     "data": {
      "image/png": "[encoded data removed]",
      "text/plain": [
       "<Figure size 640x480 with 1 Axes>"
      ]
     },
     "metadata": {},
     "output_type": "display_data"
    }
   ],
   "source": [
    "###################################\n",
    "#Test for independence variables\n",
    "###################################\n",
    "print(stack_overflow[\"age_cat\"].value_counts())\n",
    "print(stack_overflow[\"job_sat\"].value_counts())\n",
    "\n",
    "#H0: age cat are independent of job sat levels\n",
    "#HA: age cat are not independent of job sat levels\n",
    "alpha=0.1\n",
    "\n",
    "#Proportional bar plot\n",
    "props = stack_overflow.groupby(\"job_sat\")[\"age_cat\"].value_counts(normalize=True)\n",
    "wide_props = props.unstack()\n",
    "print(props)\n",
    "print(wide_props)\n",
    "\n",
    "wide_props.plot(kind=\"bar\", stacked=True)\n",
    "plt.show()\n",
    "\n",
    "#There's some variation here\n",
    "#telling that age category and job_stat are not independent \n",
    "#but we need a chi_square independence test to determine if the difference is significant\n"
   ]
  },
  {
   "cell_type": "code",
   "execution_count": 43,
   "id": "872904de",
   "metadata": {},
   "outputs": [
    {
     "name": "stdout",
     "output_type": "stream",
     "text": [
      "                 test    lambda      chi2  dof      pval    cramer     power\n",
      "0             pearson  1.000000  5.552373  4.0  0.235164  0.049555  0.437417\n",
      "1        cressie-read  0.666667  5.554106  4.0  0.235014  0.049563  0.437545\n",
      "2      log-likelihood  0.000000  5.558529  4.0  0.234632  0.049583  0.437871\n",
      "3       freeman-tukey -0.500000  5.562688  4.0  0.234274  0.049601  0.438178\n",
      "4  mod-log-likelihood -1.000000  5.567570  4.0  0.233854  0.049623  0.438538\n",
      "5              neyman -2.000000  5.579519  4.0  0.232828  0.049676  0.439419\n"
     ]
    }
   ],
   "source": [
    "#chi_square independent test\n",
    "#!pip install pingouin\n",
    "import pingouin\n",
    "expected,observed, stats = pingouin.chi2_independence(data=stack_overflow, x=\"job_sat\", y=\"age_cat\")\n",
    "print(stats)\n",
    "\n",
    "#pval>alpha=0.1\n",
    "#Fall to reject H0\n",
    "#We conclude that age cat are independent of job stat\n"
   ]
  },
  {
   "cell_type": "code",
   "execution_count": 47,
   "id": "8a0d080b",
   "metadata": {},
   "outputs": [
    {
     "name": "stdout",
     "output_type": "stream",
     "text": [
      "Hello, old friend    1225\n",
      "Indifferent           405\n",
      "Amused                368\n",
      "Annoyed               263\n",
      "Name: purple_link, dtype: int64\n",
      "         purple_link     n\n",
      "2             Amused   368\n",
      "3            Annoyed   263\n",
      "0  Hello, old friend  1225\n",
      "1        Indifferent   405\n",
      "         purple_link      prop\n",
      "0             Amused  0.166667\n",
      "1            Annoyed  0.166667\n",
      "2  Hello, old friend  0.500000\n",
      "3        Indifferent  0.166667\n"
     ]
    }
   ],
   "source": [
    "######################################\n",
    "#chi-square goodness of fit test\n",
    "######################################\n",
    "\n",
    "purple_link_counts = stack_overflow[\"purple_link\"].value_counts()\n",
    "print(purple_link_counts)\n",
    "\n",
    "purple_link_counts = purple_link_counts.rename_axis('purple_link').reset_index(name='n').sort_values('purple_link')\n",
    "print(purple_link_counts)\n",
    "\n",
    "#create a DataFrame for hypothesis results\n",
    "hypothesized = pd.DataFrame({\n",
    "    'purple_link':['Amused',\"Annoyed\",\"Hello, old friend\",\"Indifferent\"],\n",
    "    'prop':[1/6,1/6,1/2,1/6]})\n",
    "print(hypothesized)\n",
    "\n",
    "#H0: The sample matches the hypothesized distribution\n",
    "#HA: The sample does not match the hypothesized distribution\n",
    "alpha=0.01\n",
    "\n"
   ]
  },
  {
   "cell_type": "code",
   "execution_count": 49,
   "id": "54817ce4",
   "metadata": {},
   "outputs": [
    {
     "name": "stdout",
     "output_type": "stream",
     "text": [
      "         purple_link      prop            n\n",
      "0             Amused  0.166667   376.833333\n",
      "1            Annoyed  0.166667   376.833333\n",
      "2  Hello, old friend  0.500000  1130.500000\n",
      "3        Indifferent  0.166667   376.833333\n"
     ]
    },
    {
     "data": {
      "image/png": "[encoded data removed]",
      "text/plain": [
       "<Figure size 640x480 with 1 Axes>"
      ]
     },
     "metadata": {},
     "output_type": "display_data"
    }
   ],
   "source": [
    "#visualize purple_link distribution\n",
    "n_total = len(stack_overflow)\n",
    "hypothesized['n'] = hypothesized[\"prop\"] * n_total\n",
    "print(hypothesized)\n",
    "\n",
    "plt.bar(purple_link_counts['purple_link'], purple_link_counts['n'], color='red', label='Observed')\n",
    "plt.bar(hypothesized['purple_link'], hypothesized['n'], alpha=0.5, color='blue', label='Hypothesized')\n",
    "plt.legend\n",
    "plt.show()\n",
    "\n",
    "#two of the responses are well modeled by the hypothesized distribution\n",
    "#but two others appear different\n",
    "#we need to run a HYPOTHESIZED TEST to see if the result is staistically significent\n"
   ]
  },
  {
   "cell_type": "code",
   "execution_count": 51,
   "id": "33b903f1",
   "metadata": {},
   "outputs": [
    {
     "name": "stdout",
     "output_type": "stream",
     "text": [
      "         purple_link      prop            n\n",
      "0             Amused  0.166667   376.833333\n",
      "1            Annoyed  0.166667   376.833333\n",
      "2  Hello, old friend  0.500000  1130.500000\n",
      "3        Indifferent  0.166667   376.833333\n"
     ]
    },
    {
     "data": {
      "text/plain": [
       "Power_divergenceResult(statistic=44.59840778416629, pvalue=1.1261810719413759e-09)"
      ]
     },
     "execution_count": 51,
     "metadata": {},
     "output_type": "execute_result"
    }
   ],
   "source": [
    "######################################\n",
    "#Chi-square goodness of fit test\n",
    "#one sample chi-square\n",
    "######################################\n",
    "\n",
    "print(hypothesized)\n",
    "\n",
    "from scipy.stats import chisquare\n",
    "chisquare(f_obs = purple_link_counts['n'],\n",
    "         f_exp = hypothesized['n'])\n",
    "\n",
    "#pvalue very small, REJECT H0 in favor of HA\n",
    "#so we conclude that the sample distribution of proportions is different from the hypothesized distribution."
   ]
  }
 ],
 "metadata": {
  "kernelspec": {
   "display_name": "Python 3 (ipykernel)",
   "language": "python",
   "name": "python3"
  },
  "language_info": {
   "codemirror_mode": {
    "name": "ipython",
    "version": 3
   },
   "file_extension": ".py",
   "mimetype": "text/x-python",
   "name": "python",
   "nbconvert_exporter": "python",
   "pygments_lexer": "ipython3",
   "version": "3.10.9"
  }
 },
 "nbformat": 4,
 "nbformat_minor": 5
}
