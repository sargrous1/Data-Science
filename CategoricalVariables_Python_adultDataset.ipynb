{
 "cells": [
  {
   "cell_type": "code",
   "execution_count": 9,
   "id": "a181280b",
   "metadata": {},
   "outputs": [
    {
     "name": "stdout",
     "output_type": "stream",
     "text": [
      "<class 'pandas.core.frame.DataFrame'>\n",
      "RangeIndex: 32561 entries, 0 to 32560\n",
      "Data columns (total 15 columns):\n",
      " #   Column           Non-Null Count  Dtype \n",
      "---  ------           --------------  ----- \n",
      " 0   Age              32561 non-null  int64 \n",
      " 1   Workclass        32561 non-null  object\n",
      " 2   fnlgwt           32561 non-null  int64 \n",
      " 3   Education        32561 non-null  object\n",
      " 4   Education Num    32561 non-null  int64 \n",
      " 5   Marital Status   32561 non-null  object\n",
      " 6   Occupation       32561 non-null  object\n",
      " 7   Relationship     32561 non-null  object\n",
      " 8   Race             32561 non-null  object\n",
      " 9   Sex              32561 non-null  object\n",
      " 10  Capital Gain     32561 non-null  int64 \n",
      " 11  Capital Loss     32561 non-null  int64 \n",
      " 12  Hours/Week       32561 non-null  int64 \n",
      " 13  Country          32561 non-null  object\n",
      " 14  Above/Below 50k  32561 non-null  object\n",
      "dtypes: int64(6), object(9)\n",
      "memory usage: 3.7+ MB\n"
     ]
    },
    {
     "data": {
      "text/plain": [
       "None"
      ]
     },
     "metadata": {},
     "output_type": "display_data"
    },
    {
     "data": {
      "text/plain": [
       "count                   32561\n",
       "unique                      7\n",
       "top        Married-civ-spouse\n",
       "freq                    14976\n",
       "Name: Marital Status, dtype: object"
      ]
     },
     "metadata": {},
     "output_type": "display_data"
    },
    {
     "data": {
      "text/plain": [
       " Married-civ-spouse       14976\n",
       " Never-married            10683\n",
       " Divorced                  4443\n",
       " Separated                 1025\n",
       " Widowed                    993\n",
       " Married-spouse-absent      418\n",
       " Married-AF-spouse           23\n",
       "Name: Marital Status, dtype: int64"
      ]
     },
     "metadata": {},
     "output_type": "display_data"
    },
    {
     "data": {
      "text/plain": [
       " Married-civ-spouse       0.459937\n",
       " Never-married            0.328092\n",
       " Divorced                 0.136452\n",
       " Separated                0.031479\n",
       " Widowed                  0.030497\n",
       " Married-spouse-absent    0.012837\n",
       " Married-AF-spouse        0.000706\n",
       "Name: Marital Status, dtype: float64"
      ]
     },
     "metadata": {},
     "output_type": "display_data"
    }
   ],
   "source": [
    "########################################\n",
    "# Categorical variables\n",
    "########################################\n",
    "import pandas as pd \n",
    "\n",
    "adult = pd.read_csv(\"datasets/adult.csv\")\n",
    "#display(adult.head(5))\n",
    "\n",
    "# dtypes of all columns\n",
    "display(adult.info())\n",
    "\n",
    "#unique values and most common one in the column\n",
    "display(adult[\"Marital Status\"].describe())\n",
    "\n",
    "#Frequency of unique values in the column\n",
    "display(adult[\"Marital Status\"].value_counts())\n",
    "\n",
    "#Relative Frequency values in the column\n",
    "display(adult[\"Marital Status\"].value_counts(normalize=True))\n",
    "#married_civ_spouse makes up 46% of all responses\n",
    "\n",
    "\n"
   ]
  },
  {
   "cell_type": "code",
   "execution_count": 10,
   "id": "b3f421c4",
   "metadata": {},
   "outputs": [
    {
     "name": "stdout",
     "output_type": "stream",
     "text": [
      "count     32561\n",
      "unique        2\n",
      "top       <=50K\n",
      "freq      24720\n",
      "Name: Above/Below 50k, dtype: object\n",
      "<=50K    24720\n",
      ">50K      7841\n",
      "Name: Above/Below 50k, dtype: int64\n",
      "<=50K    0.75919\n",
      ">50K     0.24081\n",
      "Name: Above/Below 50k, dtype: float64\n"
     ]
    }
   ],
   "source": [
    "########################################\n",
    "#Exploring a target variable\n",
    "########################################\n",
    "# Explore the Above/Below 50k variable\n",
    "print(adult[\"Above/Below 50k\"].describe())\n",
    "# Print a frequency table of \"Above/Below 50k\"\n",
    "print(adult[\"Above/Below 50k\"].value_counts())\n",
    "# Print relative frequency values\n",
    "print(adult[\"Above/Below 50k\"].value_counts(normalize=True))\n",
    "\n",
    "#Above/Below 50k is a categorical variable with only two categories. \n",
    "#Using both the .describe() and .value_counts() methods \n",
    "#we see that the dataset is a little imbalanced towards people making less than $50,000.\n",
    "\n"
   ]
  },
  {
   "cell_type": "code",
   "execution_count": 17,
   "id": "26230266",
   "metadata": {},
   "outputs": [
    {
     "data": {
      "text/plain": [
       "Age                 int64\n",
       "Workclass          object\n",
       "fnlgwt              int64\n",
       "Education          object\n",
       "Education Num       int64\n",
       "Marital Status     object\n",
       "Occupation         object\n",
       "Relationship       object\n",
       "Race               object\n",
       "Sex                object\n",
       "Capital Gain        int64\n",
       "Capital Loss        int64\n",
       "Hours/Week          int64\n",
       "Country            object\n",
       "Above/Below 50k    object\n",
       "dtype: object"
      ]
     },
     "metadata": {},
     "output_type": "display_data"
    },
    {
     "data": {
      "text/plain": [
       "dtype('O')"
      ]
     },
     "metadata": {},
     "output_type": "display_data"
    },
    {
     "data": {
      "text/plain": [
       "CategoricalDtype(categories=[' Divorced', ' Married-AF-spouse', ' Married-civ-spouse',\n",
       "                  ' Married-spouse-absent', ' Never-married', ' Separated',\n",
       "                  ' Widowed'],\n",
       ", ordered=False)"
      ]
     },
     "metadata": {},
     "output_type": "display_data"
    }
   ],
   "source": [
    "##################################\n",
    "# Pandas and categorical values\n",
    "##################################\n",
    "import pandas as pd \n",
    "adult = pd.read_csv(\"datasets/adult.csv\")\n",
    "\n",
    "display(adult.dtypes)\n",
    "\n",
    "#column with Object type\n",
    "display(adult[\"Marital Status\"].dtype)\n",
    "\n",
    "#Set as categorical with no order\n",
    "adult[\"Marital Status\"] = adult[\"Marital Status\"].astype(\"category\")\n",
    "display(adult[\"Marital Status\"].dtype)\n"
   ]
  },
  {
   "cell_type": "code",
   "execution_count": 21,
   "id": "f02e0008",
   "metadata": {},
   "outputs": [
    {
     "name": "stdout",
     "output_type": "stream",
     "text": [
      "Age                   int64\n",
      "Workclass            object\n",
      "fnlgwt                int64\n",
      "Education            object\n",
      "Education Num         int64\n",
      "Marital Status     category\n",
      "Occupation           object\n",
      "Relationship         object\n",
      "Race                 object\n",
      "Sex                  object\n",
      "Capital Gain          int64\n",
      "Capital Loss          int64\n",
      "Hours/Week            int64\n",
      "Country              object\n",
      "Above/Below 50k      object\n",
      "dtype: object\n",
      "Age                   int64\n",
      "Workclass          category\n",
      "fnlgwt                int64\n",
      "Education          category\n",
      "Education Num         int64\n",
      "Marital Status       object\n",
      "Occupation           object\n",
      "Relationship       category\n",
      "Race                 object\n",
      "Sex                  object\n",
      "Capital Gain          int64\n",
      "Capital Loss          int64\n",
      "Hours/Week            int64\n",
      "Country              object\n",
      "Above/Below 50k    category\n",
      "dtype: object\n"
     ]
    }
   ],
   "source": [
    "#Using the categorical dtype is a great way to save memory and boost performance. \n",
    "#Specifying the dtypes will lower the amount of memory required to load your dataset. \n",
    "#This is quite helpful when dealing with large datasets!\n",
    "\n",
    "#Check the dtypes\n",
    "print(adult.dtypes)\n",
    "\n",
    "# Create a dictionary with column names as keys and \"category\" as values\n",
    "adult_dtypes = {\n",
    "   \"Workclass\": \"category\",\n",
    "   \"Education\": \"category\",\n",
    "   \"Relationship\": \"category\",\n",
    "   \"Above/Below 50k\": \"category\" \n",
    "}\n",
    "\n",
    "# Read in the CSV using the dtypes parameter\n",
    "adult2 = pd.read_csv(\"datasets/adult.csv\", dtype=adult_dtypes)\n",
    "print(adult2.dtypes)\n",
    "\n"
   ]
  },
  {
   "cell_type": "code",
   "execution_count": 26,
   "id": "caaa8c0d",
   "metadata": {},
   "outputs": [
    {
     "data": {
      "text/html": [
       "<div>\n",
       "<style scoped>\n",
       "    .dataframe tbody tr th:only-of-type {\n",
       "        vertical-align: middle;\n",
       "    }\n",
       "\n",
       "    .dataframe tbody tr th {\n",
       "        vertical-align: top;\n",
       "    }\n",
       "\n",
       "    .dataframe thead th {\n",
       "        text-align: right;\n",
       "    }\n",
       "</style>\n",
       "<table border=\"1\" class=\"dataframe\">\n",
       "  <thead>\n",
       "    <tr style=\"text-align: right;\">\n",
       "      <th></th>\n",
       "      <th>Age</th>\n",
       "      <th>fnlgwt</th>\n",
       "      <th>Education Num</th>\n",
       "      <th>Capital Gain</th>\n",
       "      <th>Capital Loss</th>\n",
       "      <th>Hours/Week</th>\n",
       "    </tr>\n",
       "    <tr>\n",
       "      <th>Above/Below 50k</th>\n",
       "      <th></th>\n",
       "      <th></th>\n",
       "      <th></th>\n",
       "      <th></th>\n",
       "      <th></th>\n",
       "      <th></th>\n",
       "    </tr>\n",
       "  </thead>\n",
       "  <tbody>\n",
       "    <tr>\n",
       "      <th>&lt;=50K</th>\n",
       "      <td>36.783738</td>\n",
       "      <td>190340.86517</td>\n",
       "      <td>9.595065</td>\n",
       "      <td>148.752468</td>\n",
       "      <td>53.142921</td>\n",
       "      <td>38.840210</td>\n",
       "    </tr>\n",
       "    <tr>\n",
       "      <th>&gt;50K</th>\n",
       "      <td>44.249841</td>\n",
       "      <td>188005.00000</td>\n",
       "      <td>11.611657</td>\n",
       "      <td>4006.142456</td>\n",
       "      <td>195.001530</td>\n",
       "      <td>45.473026</td>\n",
       "    </tr>\n",
       "  </tbody>\n",
       "</table>\n",
       "</div>"
      ],
      "text/plain": [
       "                       Age        fnlgwt  Education Num  Capital Gain  \\\n",
       "Above/Below 50k                                                         \n",
       "<=50K            36.783738  190340.86517       9.595065    148.752468   \n",
       ">50K             44.249841  188005.00000      11.611657   4006.142456   \n",
       "\n",
       "                 Capital Loss  Hours/Week  \n",
       "Above/Below 50k                            \n",
       "<=50K               53.142921   38.840210  \n",
       ">50K               195.001530   45.473026  "
      ]
     },
     "metadata": {},
     "output_type": "display_data"
    },
    {
     "data": {
      "text/html": [
       "<div>\n",
       "<style scoped>\n",
       "    .dataframe tbody tr th:only-of-type {\n",
       "        vertical-align: middle;\n",
       "    }\n",
       "\n",
       "    .dataframe tbody tr th {\n",
       "        vertical-align: top;\n",
       "    }\n",
       "\n",
       "    .dataframe thead th {\n",
       "        text-align: right;\n",
       "    }\n",
       "</style>\n",
       "<table border=\"1\" class=\"dataframe\">\n",
       "  <thead>\n",
       "    <tr style=\"text-align: right;\">\n",
       "      <th></th>\n",
       "      <th>Age</th>\n",
       "      <th>Education Num</th>\n",
       "    </tr>\n",
       "    <tr>\n",
       "      <th>Above/Below 50k</th>\n",
       "      <th></th>\n",
       "      <th></th>\n",
       "    </tr>\n",
       "  </thead>\n",
       "  <tbody>\n",
       "    <tr>\n",
       "      <th>&lt;=50K</th>\n",
       "      <td>909294</td>\n",
       "      <td>237190</td>\n",
       "    </tr>\n",
       "    <tr>\n",
       "      <th>&gt;50K</th>\n",
       "      <td>346963</td>\n",
       "      <td>91047</td>\n",
       "    </tr>\n",
       "  </tbody>\n",
       "</table>\n",
       "</div>"
      ],
      "text/plain": [
       "                    Age  Education Num\n",
       "Above/Below 50k                       \n",
       "<=50K            909294         237190\n",
       ">50K             346963          91047"
      ]
     },
     "metadata": {},
     "output_type": "display_data"
    },
    {
     "data": {
      "text/plain": [
       "Above/Below 50k  Marital Status        \n",
       "<=50K             Divorced                  3980\n",
       "                  Married-AF-spouse           13\n",
       "                  Married-civ-spouse        8284\n",
       "                  Married-spouse-absent      384\n",
       "                  Never-married            10192\n",
       "                  Separated                  959\n",
       "                  Widowed                    908\n",
       ">50K              Divorced                   463\n",
       "                  Married-AF-spouse           10\n",
       "                  Married-civ-spouse        6692\n",
       "                  Married-spouse-absent       34\n",
       "                  Never-married              491\n",
       "                  Separated                   66\n",
       "                  Widowed                     85\n",
       "dtype: int64"
      ]
     },
     "metadata": {},
     "output_type": "display_data"
    }
   ],
   "source": [
    "###############################\n",
    "# .groupby categorical values\n",
    "###############################\n",
    "#just numerical columns appear\n",
    "display(adult.groupby(by=[\"Above/Below 50k\"]).mean())\n",
    "\n",
    "#if large dataset limit the number of columns\n",
    "display(adult.groupby(by=[\"Above/Below 50k\"])[\"Age\",\"Education Num\"].sum())\n",
    "\n",
    "#groupby on multiple columns\n",
    "display(adult.groupby(by=[\"Above/Below 50k\",\"Marital Status\"]).size())\n",
    "\n",
    "#check if there are enough rows to do analysis"
   ]
  },
  {
   "cell_type": "code",
   "execution_count": 33,
   "id": "5fc03fc9",
   "metadata": {},
   "outputs": [
    {
     "name": "stdout",
     "output_type": "stream",
     "text": [
      "Sex      Above/Below 50k\n",
      " Female  <=50K               9592\n",
      "         >50K                1179\n",
      " Male    <=50K              15128\n",
      "         >50K                6662\n",
      "dtype: int64\n",
      "                               Age         fnlgwt  Education Num  \\\n",
      "Sex     Above/Below 50k                                            \n",
      " Female <=50K            36.210801  185999.381359       9.820475   \n",
      "        >50K             42.125530  183687.406277      11.787108   \n",
      " Male   <=50K            37.147012  193093.609268       9.452142   \n",
      "        >50K             44.625788  188769.101321      11.580606   \n",
      "\n",
      "                         Capital Gain  Capital Loss  Hours/Week  \n",
      "Sex     Above/Below 50k                                          \n",
      " Female <=50K              121.986134     47.364470   35.916701  \n",
      "        >50K              4200.389313    173.648855   40.426633  \n",
      " Male   <=50K              165.723823     56.806782   40.693879  \n",
      "        >50K              3971.765836    198.780396   46.366106  \n",
      "Education      Above/Below 50k\n",
      " Assoc-acdm    <=50K              39.264339\n",
      "               >50K               44.256604\n",
      " Assoc-voc     <=50K              40.817826\n",
      "               >50K               43.853186\n",
      " Bachelors     <=50K              40.586152\n",
      "               >50K               45.475462\n",
      " Doctorate     <=50K              45.429907\n",
      "               >50K               47.513072\n",
      " HS-grad       <=50K              39.727510\n",
      "               >50K               45.042985\n",
      " Masters       <=50K              41.223822\n",
      "               >50K               45.917623\n",
      " Preschool     <=50K              36.647059\n",
      " Prof-school   <=50K              42.816993\n",
      "               >50K               49.092199\n",
      " Some-college  <=50K              37.450203\n",
      "               >50K               44.820476\n",
      "10th           <=50K              36.574053\n",
      "               >50K               43.774194\n",
      "11th           <=50K              33.322870\n",
      "               >50K               45.133333\n",
      "12th           <=50K              35.035000\n",
      "               >50K               44.818182\n",
      "1st-4th        <=50K              37.864198\n",
      "               >50K               48.833333\n",
      "5th-6th        <=50K              38.539432\n",
      "               >50K               46.000000\n",
      "7th-8th        <=50K              38.830033\n",
      "               >50K               47.500000\n",
      "9th            <=50K              37.667351\n",
      "               >50K               44.851852\n",
      "Name: Hours/Week, dtype: float64\n"
     ]
    }
   ],
   "source": [
    "#####################################################################################\n",
    "# select the variables before calling a function. \n",
    "# Large datatsets might have problems calculating the mean of every numerical column.\n",
    "#####################################################################################\n",
    "# Group the adult dataset by \"Sex\" and \"Above/Below 50k\"\n",
    "gb = adult.groupby(by=[\"Sex\",\"Above/Below 50k\"])\n",
    "# Print out how many rows are in each created group\n",
    "print(gb.size())\n",
    "# Print out the mean of each group for all columns\n",
    "print(gb.mean())\n",
    "\n",
    "# Create a list of user-selected variables\n",
    "user_list = [\"Education\",\"Above/Below 50k\"]\n",
    "# Create a GroupBy object using this list\n",
    "gb = adult.groupby(by=user_list)\n",
    "# Find the mean for the variable \"Hours/Week\" for each group - Be efficient!\n",
    "print(gb[\"Hours/Week\"].mean())"
   ]
  }
 ],
 "metadata": {
  "kernelspec": {
   "display_name": "Python 3 (ipykernel)",
   "language": "python",
   "name": "python3"
  },
  "language_info": {
   "codemirror_mode": {
    "name": "ipython",
    "version": 3
   },
   "file_extension": ".py",
   "mimetype": "text/x-python",
   "name": "python",
   "nbconvert_exporter": "python",
   "pygments_lexer": "ipython3",
   "version": "3.10.9"
  }
 },
 "nbformat": 4,
 "nbformat_minor": 5
}
